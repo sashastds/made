{
  "nbformat": 4,
  "nbformat_minor": 0,
  "metadata": {
    "kernelspec": {
      "display_name": "Python 3",
      "language": "python",
      "name": "python3"
    },
    "language_info": {
      "codemirror_mode": {
        "name": "ipython",
        "version": 3
      },
      "file_extension": ".py",
      "mimetype": "text/x-python",
      "name": "python",
      "nbconvert_exporter": "python",
      "pygments_lexer": "ipython3",
      "version": "3.7.6"
    },
    "colab": {
      "name": "Nalitkin-AS - Advanced ML - HW2.ipynb",
      "provenance": [],
      "collapsed_sections": []
    },
    "widgets": {
      "application/vnd.jupyter.widget-state+json": {
        "2ee035b19eb14561b6ed8df676af7021": {
          "model_module": "@jupyter-widgets/controls",
          "model_name": "HBoxModel",
          "state": {
            "_view_name": "HBoxView",
            "_dom_classes": [],
            "_model_name": "HBoxModel",
            "_view_module": "@jupyter-widgets/controls",
            "_model_module_version": "1.5.0",
            "_view_count": null,
            "_view_module_version": "1.5.0",
            "box_style": "",
            "layout": "IPY_MODEL_26ea438a05d7496fbd924d8a9f0e8b9e",
            "_model_module": "@jupyter-widgets/controls",
            "children": [
              "IPY_MODEL_bc65d26467ba4110a61f80ca372b90a3",
              "IPY_MODEL_8efc3ac975b34f1ea51387080f1a2cd6"
            ]
          }
        },
        "26ea438a05d7496fbd924d8a9f0e8b9e": {
          "model_module": "@jupyter-widgets/base",
          "model_name": "LayoutModel",
          "state": {
            "_view_name": "LayoutView",
            "grid_template_rows": null,
            "right": null,
            "justify_content": null,
            "_view_module": "@jupyter-widgets/base",
            "overflow": null,
            "_model_module_version": "1.2.0",
            "_view_count": null,
            "flex_flow": null,
            "width": null,
            "min_width": null,
            "border": null,
            "align_items": null,
            "bottom": null,
            "_model_module": "@jupyter-widgets/base",
            "top": null,
            "grid_column": null,
            "overflow_y": null,
            "overflow_x": null,
            "grid_auto_flow": null,
            "grid_area": null,
            "grid_template_columns": null,
            "flex": null,
            "_model_name": "LayoutModel",
            "justify_items": null,
            "grid_row": null,
            "max_height": null,
            "align_content": null,
            "visibility": null,
            "align_self": null,
            "height": null,
            "min_height": null,
            "padding": null,
            "grid_auto_rows": null,
            "grid_gap": null,
            "max_width": null,
            "order": null,
            "_view_module_version": "1.2.0",
            "grid_template_areas": null,
            "object_position": null,
            "object_fit": null,
            "grid_auto_columns": null,
            "margin": null,
            "display": null,
            "left": null
          }
        },
        "bc65d26467ba4110a61f80ca372b90a3": {
          "model_module": "@jupyter-widgets/controls",
          "model_name": "FloatProgressModel",
          "state": {
            "_view_name": "ProgressView",
            "style": "IPY_MODEL_2e3fb24192ac42ee97f4a91cd4760e6f",
            "_dom_classes": [],
            "description": "100%",
            "_model_name": "FloatProgressModel",
            "bar_style": "success",
            "max": 5528,
            "_view_module": "@jupyter-widgets/controls",
            "_model_module_version": "1.5.0",
            "value": 5528,
            "_view_count": null,
            "_view_module_version": "1.5.0",
            "orientation": "horizontal",
            "min": 0,
            "description_tooltip": null,
            "_model_module": "@jupyter-widgets/controls",
            "layout": "IPY_MODEL_0732d52ecd8c4fe184e3f6bb8cd60baa"
          }
        },
        "8efc3ac975b34f1ea51387080f1a2cd6": {
          "model_module": "@jupyter-widgets/controls",
          "model_name": "HTMLModel",
          "state": {
            "_view_name": "HTMLView",
            "style": "IPY_MODEL_ab2b1df6e2754c0e83f57e3479755066",
            "_dom_classes": [],
            "description": "",
            "_model_name": "HTMLModel",
            "placeholder": "​",
            "_view_module": "@jupyter-widgets/controls",
            "_model_module_version": "1.5.0",
            "value": " 5528/5528 [00:01&lt;00:00, 4072.39it/s]",
            "_view_count": null,
            "_view_module_version": "1.5.0",
            "description_tooltip": null,
            "_model_module": "@jupyter-widgets/controls",
            "layout": "IPY_MODEL_8b35cae9e4af412396f5cac71589af62"
          }
        },
        "2e3fb24192ac42ee97f4a91cd4760e6f": {
          "model_module": "@jupyter-widgets/controls",
          "model_name": "ProgressStyleModel",
          "state": {
            "_view_name": "StyleView",
            "_model_name": "ProgressStyleModel",
            "description_width": "initial",
            "_view_module": "@jupyter-widgets/base",
            "_model_module_version": "1.5.0",
            "_view_count": null,
            "_view_module_version": "1.2.0",
            "bar_color": null,
            "_model_module": "@jupyter-widgets/controls"
          }
        },
        "0732d52ecd8c4fe184e3f6bb8cd60baa": {
          "model_module": "@jupyter-widgets/base",
          "model_name": "LayoutModel",
          "state": {
            "_view_name": "LayoutView",
            "grid_template_rows": null,
            "right": null,
            "justify_content": null,
            "_view_module": "@jupyter-widgets/base",
            "overflow": null,
            "_model_module_version": "1.2.0",
            "_view_count": null,
            "flex_flow": null,
            "width": null,
            "min_width": null,
            "border": null,
            "align_items": null,
            "bottom": null,
            "_model_module": "@jupyter-widgets/base",
            "top": null,
            "grid_column": null,
            "overflow_y": null,
            "overflow_x": null,
            "grid_auto_flow": null,
            "grid_area": null,
            "grid_template_columns": null,
            "flex": null,
            "_model_name": "LayoutModel",
            "justify_items": null,
            "grid_row": null,
            "max_height": null,
            "align_content": null,
            "visibility": null,
            "align_self": null,
            "height": null,
            "min_height": null,
            "padding": null,
            "grid_auto_rows": null,
            "grid_gap": null,
            "max_width": null,
            "order": null,
            "_view_module_version": "1.2.0",
            "grid_template_areas": null,
            "object_position": null,
            "object_fit": null,
            "grid_auto_columns": null,
            "margin": null,
            "display": null,
            "left": null
          }
        },
        "ab2b1df6e2754c0e83f57e3479755066": {
          "model_module": "@jupyter-widgets/controls",
          "model_name": "DescriptionStyleModel",
          "state": {
            "_view_name": "StyleView",
            "_model_name": "DescriptionStyleModel",
            "description_width": "",
            "_view_module": "@jupyter-widgets/base",
            "_model_module_version": "1.5.0",
            "_view_count": null,
            "_view_module_version": "1.2.0",
            "_model_module": "@jupyter-widgets/controls"
          }
        },
        "8b35cae9e4af412396f5cac71589af62": {
          "model_module": "@jupyter-widgets/base",
          "model_name": "LayoutModel",
          "state": {
            "_view_name": "LayoutView",
            "grid_template_rows": null,
            "right": null,
            "justify_content": null,
            "_view_module": "@jupyter-widgets/base",
            "overflow": null,
            "_model_module_version": "1.2.0",
            "_view_count": null,
            "flex_flow": null,
            "width": null,
            "min_width": null,
            "border": null,
            "align_items": null,
            "bottom": null,
            "_model_module": "@jupyter-widgets/base",
            "top": null,
            "grid_column": null,
            "overflow_y": null,
            "overflow_x": null,
            "grid_auto_flow": null,
            "grid_area": null,
            "grid_template_columns": null,
            "flex": null,
            "_model_name": "LayoutModel",
            "justify_items": null,
            "grid_row": null,
            "max_height": null,
            "align_content": null,
            "visibility": null,
            "align_self": null,
            "height": null,
            "min_height": null,
            "padding": null,
            "grid_auto_rows": null,
            "grid_gap": null,
            "max_width": null,
            "order": null,
            "_view_module_version": "1.2.0",
            "grid_template_areas": null,
            "object_position": null,
            "object_fit": null,
            "grid_auto_columns": null,
            "margin": null,
            "display": null,
            "left": null
          }
        },
        "cf0327b8ed14400ca96a4bed935a523e": {
          "model_module": "@jupyter-widgets/controls",
          "model_name": "HBoxModel",
          "state": {
            "_view_name": "HBoxView",
            "_dom_classes": [],
            "_model_name": "HBoxModel",
            "_view_module": "@jupyter-widgets/controls",
            "_model_module_version": "1.5.0",
            "_view_count": null,
            "_view_module_version": "1.5.0",
            "box_style": "",
            "layout": "IPY_MODEL_0936f36f84bb47b0b62f4303e38bda70",
            "_model_module": "@jupyter-widgets/controls",
            "children": [
              "IPY_MODEL_2df6e216905342eaa74d5b6a54366b0f",
              "IPY_MODEL_2ff86ea3f40545a283cf8ab8dc39ee9e"
            ]
          }
        },
        "0936f36f84bb47b0b62f4303e38bda70": {
          "model_module": "@jupyter-widgets/base",
          "model_name": "LayoutModel",
          "state": {
            "_view_name": "LayoutView",
            "grid_template_rows": null,
            "right": null,
            "justify_content": null,
            "_view_module": "@jupyter-widgets/base",
            "overflow": null,
            "_model_module_version": "1.2.0",
            "_view_count": null,
            "flex_flow": null,
            "width": null,
            "min_width": null,
            "border": null,
            "align_items": null,
            "bottom": null,
            "_model_module": "@jupyter-widgets/base",
            "top": null,
            "grid_column": null,
            "overflow_y": null,
            "overflow_x": null,
            "grid_auto_flow": null,
            "grid_area": null,
            "grid_template_columns": null,
            "flex": null,
            "_model_name": "LayoutModel",
            "justify_items": null,
            "grid_row": null,
            "max_height": null,
            "align_content": null,
            "visibility": null,
            "align_self": null,
            "height": null,
            "min_height": null,
            "padding": null,
            "grid_auto_rows": null,
            "grid_gap": null,
            "max_width": null,
            "order": null,
            "_view_module_version": "1.2.0",
            "grid_template_areas": null,
            "object_position": null,
            "object_fit": null,
            "grid_auto_columns": null,
            "margin": null,
            "display": null,
            "left": null
          }
        },
        "2df6e216905342eaa74d5b6a54366b0f": {
          "model_module": "@jupyter-widgets/controls",
          "model_name": "FloatProgressModel",
          "state": {
            "_view_name": "ProgressView",
            "style": "IPY_MODEL_d22370084d1f4304b7114ce5f5534a11",
            "_dom_classes": [],
            "description": "",
            "_model_name": "FloatProgressModel",
            "bar_style": "success",
            "max": 1,
            "_view_module": "@jupyter-widgets/controls",
            "_model_module_version": "1.5.0",
            "value": 1,
            "_view_count": null,
            "_view_module_version": "1.5.0",
            "orientation": "horizontal",
            "min": 0,
            "description_tooltip": null,
            "_model_module": "@jupyter-widgets/controls",
            "layout": "IPY_MODEL_2f1a5cb4c06f429ba34ad2f5f09b27e0"
          }
        },
        "2ff86ea3f40545a283cf8ab8dc39ee9e": {
          "model_module": "@jupyter-widgets/controls",
          "model_name": "HTMLModel",
          "state": {
            "_view_name": "HTMLView",
            "style": "IPY_MODEL_fc2b546385554f069c74b4a8227656de",
            "_dom_classes": [],
            "description": "",
            "_model_name": "HTMLModel",
            "placeholder": "​",
            "_view_module": "@jupyter-widgets/controls",
            "_model_module_version": "1.5.0",
            "value": " 349825/? [08:28&lt;00:00, 688.60it/s]",
            "_view_count": null,
            "_view_module_version": "1.5.0",
            "description_tooltip": null,
            "_model_module": "@jupyter-widgets/controls",
            "layout": "IPY_MODEL_6a883ef834ce44cf8b0d8ba972e0f49d"
          }
        },
        "d22370084d1f4304b7114ce5f5534a11": {
          "model_module": "@jupyter-widgets/controls",
          "model_name": "ProgressStyleModel",
          "state": {
            "_view_name": "StyleView",
            "_model_name": "ProgressStyleModel",
            "description_width": "initial",
            "_view_module": "@jupyter-widgets/base",
            "_model_module_version": "1.5.0",
            "_view_count": null,
            "_view_module_version": "1.2.0",
            "bar_color": null,
            "_model_module": "@jupyter-widgets/controls"
          }
        },
        "2f1a5cb4c06f429ba34ad2f5f09b27e0": {
          "model_module": "@jupyter-widgets/base",
          "model_name": "LayoutModel",
          "state": {
            "_view_name": "LayoutView",
            "grid_template_rows": null,
            "right": null,
            "justify_content": null,
            "_view_module": "@jupyter-widgets/base",
            "overflow": null,
            "_model_module_version": "1.2.0",
            "_view_count": null,
            "flex_flow": null,
            "width": null,
            "min_width": null,
            "border": null,
            "align_items": null,
            "bottom": null,
            "_model_module": "@jupyter-widgets/base",
            "top": null,
            "grid_column": null,
            "overflow_y": null,
            "overflow_x": null,
            "grid_auto_flow": null,
            "grid_area": null,
            "grid_template_columns": null,
            "flex": null,
            "_model_name": "LayoutModel",
            "justify_items": null,
            "grid_row": null,
            "max_height": null,
            "align_content": null,
            "visibility": null,
            "align_self": null,
            "height": null,
            "min_height": null,
            "padding": null,
            "grid_auto_rows": null,
            "grid_gap": null,
            "max_width": null,
            "order": null,
            "_view_module_version": "1.2.0",
            "grid_template_areas": null,
            "object_position": null,
            "object_fit": null,
            "grid_auto_columns": null,
            "margin": null,
            "display": null,
            "left": null
          }
        },
        "fc2b546385554f069c74b4a8227656de": {
          "model_module": "@jupyter-widgets/controls",
          "model_name": "DescriptionStyleModel",
          "state": {
            "_view_name": "StyleView",
            "_model_name": "DescriptionStyleModel",
            "description_width": "",
            "_view_module": "@jupyter-widgets/base",
            "_model_module_version": "1.5.0",
            "_view_count": null,
            "_view_module_version": "1.2.0",
            "_model_module": "@jupyter-widgets/controls"
          }
        },
        "6a883ef834ce44cf8b0d8ba972e0f49d": {
          "model_module": "@jupyter-widgets/base",
          "model_name": "LayoutModel",
          "state": {
            "_view_name": "LayoutView",
            "grid_template_rows": null,
            "right": null,
            "justify_content": null,
            "_view_module": "@jupyter-widgets/base",
            "overflow": null,
            "_model_module_version": "1.2.0",
            "_view_count": null,
            "flex_flow": null,
            "width": null,
            "min_width": null,
            "border": null,
            "align_items": null,
            "bottom": null,
            "_model_module": "@jupyter-widgets/base",
            "top": null,
            "grid_column": null,
            "overflow_y": null,
            "overflow_x": null,
            "grid_auto_flow": null,
            "grid_area": null,
            "grid_template_columns": null,
            "flex": null,
            "_model_name": "LayoutModel",
            "justify_items": null,
            "grid_row": null,
            "max_height": null,
            "align_content": null,
            "visibility": null,
            "align_self": null,
            "height": null,
            "min_height": null,
            "padding": null,
            "grid_auto_rows": null,
            "grid_gap": null,
            "max_width": null,
            "order": null,
            "_view_module_version": "1.2.0",
            "grid_template_areas": null,
            "object_position": null,
            "object_fit": null,
            "grid_auto_columns": null,
            "margin": null,
            "display": null,
            "left": null
          }
        },
        "726d844d2e774031ba73973c08213d47": {
          "model_module": "@jupyter-widgets/controls",
          "model_name": "HBoxModel",
          "state": {
            "_view_name": "HBoxView",
            "_dom_classes": [],
            "_model_name": "HBoxModel",
            "_view_module": "@jupyter-widgets/controls",
            "_model_module_version": "1.5.0",
            "_view_count": null,
            "_view_module_version": "1.5.0",
            "box_style": "",
            "layout": "IPY_MODEL_ead3e5c634bb443a92a1902636bb979f",
            "_model_module": "@jupyter-widgets/controls",
            "children": [
              "IPY_MODEL_979399df5efb4f91a3adebd8020da685",
              "IPY_MODEL_11f3f0fbb2f94dc7b128923146ca7b92"
            ]
          }
        },
        "ead3e5c634bb443a92a1902636bb979f": {
          "model_module": "@jupyter-widgets/base",
          "model_name": "LayoutModel",
          "state": {
            "_view_name": "LayoutView",
            "grid_template_rows": null,
            "right": null,
            "justify_content": null,
            "_view_module": "@jupyter-widgets/base",
            "overflow": null,
            "_model_module_version": "1.2.0",
            "_view_count": null,
            "flex_flow": null,
            "width": null,
            "min_width": null,
            "border": null,
            "align_items": null,
            "bottom": null,
            "_model_module": "@jupyter-widgets/base",
            "top": null,
            "grid_column": null,
            "overflow_y": null,
            "overflow_x": null,
            "grid_auto_flow": null,
            "grid_area": null,
            "grid_template_columns": null,
            "flex": null,
            "_model_name": "LayoutModel",
            "justify_items": null,
            "grid_row": null,
            "max_height": null,
            "align_content": null,
            "visibility": null,
            "align_self": null,
            "height": null,
            "min_height": null,
            "padding": null,
            "grid_auto_rows": null,
            "grid_gap": null,
            "max_width": null,
            "order": null,
            "_view_module_version": "1.2.0",
            "grid_template_areas": null,
            "object_position": null,
            "object_fit": null,
            "grid_auto_columns": null,
            "margin": null,
            "display": null,
            "left": null
          }
        },
        "979399df5efb4f91a3adebd8020da685": {
          "model_module": "@jupyter-widgets/controls",
          "model_name": "FloatProgressModel",
          "state": {
            "_view_name": "ProgressView",
            "style": "IPY_MODEL_68ea4371244d4b7b8b4b34288dbbff72",
            "_dom_classes": [],
            "description": " 46%",
            "_model_name": "FloatProgressModel",
            "bar_style": "danger",
            "max": 200,
            "_view_module": "@jupyter-widgets/controls",
            "_model_module_version": "1.5.0",
            "value": 93,
            "_view_count": null,
            "_view_module_version": "1.5.0",
            "orientation": "horizontal",
            "min": 0,
            "description_tooltip": null,
            "_model_module": "@jupyter-widgets/controls",
            "layout": "IPY_MODEL_6548b53e96f94b5488feada0bbfebda9"
          }
        },
        "11f3f0fbb2f94dc7b128923146ca7b92": {
          "model_module": "@jupyter-widgets/controls",
          "model_name": "HTMLModel",
          "state": {
            "_view_name": "HTMLView",
            "style": "IPY_MODEL_25b71271e7b747c4a1a6577993e9bb0e",
            "_dom_classes": [],
            "description": "",
            "_model_name": "HTMLModel",
            "placeholder": "​",
            "_view_module": "@jupyter-widgets/controls",
            "_model_module_version": "1.5.0",
            "value": " 93/200 [05:36&lt;06:29,  3.64s/it]",
            "_view_count": null,
            "_view_module_version": "1.5.0",
            "description_tooltip": null,
            "_model_module": "@jupyter-widgets/controls",
            "layout": "IPY_MODEL_a20379f4fe3f4a059d4cde645123402b"
          }
        },
        "68ea4371244d4b7b8b4b34288dbbff72": {
          "model_module": "@jupyter-widgets/controls",
          "model_name": "ProgressStyleModel",
          "state": {
            "_view_name": "StyleView",
            "_model_name": "ProgressStyleModel",
            "description_width": "initial",
            "_view_module": "@jupyter-widgets/base",
            "_model_module_version": "1.5.0",
            "_view_count": null,
            "_view_module_version": "1.2.0",
            "bar_color": null,
            "_model_module": "@jupyter-widgets/controls"
          }
        },
        "6548b53e96f94b5488feada0bbfebda9": {
          "model_module": "@jupyter-widgets/base",
          "model_name": "LayoutModel",
          "state": {
            "_view_name": "LayoutView",
            "grid_template_rows": null,
            "right": null,
            "justify_content": null,
            "_view_module": "@jupyter-widgets/base",
            "overflow": null,
            "_model_module_version": "1.2.0",
            "_view_count": null,
            "flex_flow": null,
            "width": null,
            "min_width": null,
            "border": null,
            "align_items": null,
            "bottom": null,
            "_model_module": "@jupyter-widgets/base",
            "top": null,
            "grid_column": null,
            "overflow_y": null,
            "overflow_x": null,
            "grid_auto_flow": null,
            "grid_area": null,
            "grid_template_columns": null,
            "flex": null,
            "_model_name": "LayoutModel",
            "justify_items": null,
            "grid_row": null,
            "max_height": null,
            "align_content": null,
            "visibility": null,
            "align_self": null,
            "height": null,
            "min_height": null,
            "padding": null,
            "grid_auto_rows": null,
            "grid_gap": null,
            "max_width": null,
            "order": null,
            "_view_module_version": "1.2.0",
            "grid_template_areas": null,
            "object_position": null,
            "object_fit": null,
            "grid_auto_columns": null,
            "margin": null,
            "display": null,
            "left": null
          }
        },
        "25b71271e7b747c4a1a6577993e9bb0e": {
          "model_module": "@jupyter-widgets/controls",
          "model_name": "DescriptionStyleModel",
          "state": {
            "_view_name": "StyleView",
            "_model_name": "DescriptionStyleModel",
            "description_width": "",
            "_view_module": "@jupyter-widgets/base",
            "_model_module_version": "1.5.0",
            "_view_count": null,
            "_view_module_version": "1.2.0",
            "_model_module": "@jupyter-widgets/controls"
          }
        },
        "a20379f4fe3f4a059d4cde645123402b": {
          "model_module": "@jupyter-widgets/base",
          "model_name": "LayoutModel",
          "state": {
            "_view_name": "LayoutView",
            "grid_template_rows": null,
            "right": null,
            "justify_content": null,
            "_view_module": "@jupyter-widgets/base",
            "overflow": null,
            "_model_module_version": "1.2.0",
            "_view_count": null,
            "flex_flow": null,
            "width": null,
            "min_width": null,
            "border": null,
            "align_items": null,
            "bottom": null,
            "_model_module": "@jupyter-widgets/base",
            "top": null,
            "grid_column": null,
            "overflow_y": null,
            "overflow_x": null,
            "grid_auto_flow": null,
            "grid_area": null,
            "grid_template_columns": null,
            "flex": null,
            "_model_name": "LayoutModel",
            "justify_items": null,
            "grid_row": null,
            "max_height": null,
            "align_content": null,
            "visibility": null,
            "align_self": null,
            "height": null,
            "min_height": null,
            "padding": null,
            "grid_auto_rows": null,
            "grid_gap": null,
            "max_width": null,
            "order": null,
            "_view_module_version": "1.2.0",
            "grid_template_areas": null,
            "object_position": null,
            "object_fit": null,
            "grid_auto_columns": null,
            "margin": null,
            "display": null,
            "left": null
          }
        }
      }
    },
    "accelerator": "GPU"
  },
  "cells": [
    {
      "cell_type": "markdown",
      "metadata": {
        "id": "Wq40Yn9-ofz0"
      },
      "source": [
        "0. Imports and data loading"
      ]
    },
    {
      "cell_type": "code",
      "metadata": {
        "colab": {
          "base_uri": "https://localhost:8080/"
        },
        "id": "5SWMbZ6PH9xJ",
        "outputId": "aae89d16-b064-4972-dbc8-9f1bec0363c1"
      },
      "source": [
        "import IPython\n",
        "from IPython.display import HTML, display, Image\n",
        "\n",
        "from scipy import stats\n",
        "import statsmodels.stats.diagnostic\n",
        "import statsmodels.stats\n",
        "import numpy as np\n",
        "import pandas as pd\n",
        "import seaborn as sns\n",
        "import matplotlib.pyplot as plt\n",
        "from tqdm.notebook import tqdm\n",
        "import os\n",
        "import joblib\n",
        "from itertools import repeat\n",
        "from functools import partial\n",
        "from collections import defaultdict, Counter\n",
        "\n",
        "import scipy\n",
        "from scipy.stats import kendalltau, spearmanr\n",
        "\n",
        "from sklearn.preprocessing import OneHotEncoder\n",
        "\n",
        "\n",
        "import warnings\n",
        "warnings.filterwarnings(action = 'ignore', category = FutureWarning)\n",
        "warnings.filterwarnings(action = 'ignore', category = DeprecationWarning)\n",
        "\n",
        "from google.colab import drive\n",
        "drive.mount('/content/gdrive/')\n",
        "\n",
        "path_to_files = '/content/gdrive/My Drive/_made/advanced_ml/hw2/data/'\n",
        "# os.listdir(path_to_files)"
      ],
      "execution_count": 1,
      "outputs": [
        {
          "output_type": "stream",
          "text": [
            "/usr/local/lib/python3.7/dist-packages/statsmodels/tools/_testing.py:19: FutureWarning: pandas.util.testing is deprecated. Use the functions in the public API at pandas.testing instead.\n",
            "  import pandas.util.testing as tm\n"
          ],
          "name": "stderr"
        },
        {
          "output_type": "stream",
          "text": [
            "Drive already mounted at /content/gdrive/; to attempt to forcibly remount, call drive.mount(\"/content/gdrive/\", force_remount=True).\n"
          ],
          "name": "stdout"
        }
      ]
    },
    {
      "cell_type": "markdown",
      "metadata": {
        "id": "XVXYYepqooGy"
      },
      "source": [
        "1. Прочитайте и проанализируйте данные, выберите турниры, в которых есть данные о составах команд и повопросных результатах (поле mask в results.pkl).\n",
        "- тренировочный набор — турниры с dateStart из 2019 года\n",
        "- тестовый — турниры с dateStart из 2020 года"
      ]
    },
    {
      "cell_type": "code",
      "metadata": {
        "colab": {
          "base_uri": "https://localhost:8080/"
        },
        "id": "gmADuI5nNjnO",
        "outputId": "ce099dff-9074-4aa3-ce40-ac939596d006"
      },
      "source": [
        "%%time \n",
        "\n",
        "tournaments = joblib.load(path_to_files + 'tournaments.pkl')\n",
        "\n",
        "train_tournaments = {}\n",
        "test_tournaments = {}\n",
        "\n",
        "for k, v in tournaments.items():\n",
        "    try:\n",
        "        if v['dateStart'][:4] == '2019':\n",
        "            train_tournaments[k] = v\n",
        "        elif v['dateStart'][:4] == '2020':\n",
        "            test_tournaments[k] = v\n",
        "    except:\n",
        "        pass\n",
        "\n",
        "print(len(train_tournaments), len(test_tournaments))"
      ],
      "execution_count": null,
      "outputs": [
        {
          "output_type": "stream",
          "text": [
            "687 418\n",
            "CPU times: user 669 ms, sys: 43.4 ms, total: 712 ms\n",
            "Wall time: 1.1 s\n"
          ],
          "name": "stdout"
        }
      ]
    },
    {
      "cell_type": "markdown",
      "metadata": {
        "id": "PcIJ0OfPwT9J"
      },
      "source": [
        "### Посмотрим на то, какую информацию можно извлечь из турниров"
      ]
    },
    {
      "cell_type": "code",
      "metadata": {
        "colab": {
          "base_uri": "https://localhost:8080/"
        },
        "id": "Q96R2nzjsEs_",
        "outputId": "b361724f-14e7-42e0-a795-00c174261c64"
      },
      "source": [
        "tournament_types = defaultdict(int)\n",
        "no_type_cnt = 0\n",
        "id_types = set()\n",
        "quantites = defaultdict(lambda: Counter())\n",
        "for trt in train_tournaments.values():\n",
        "    id_types.add(type(trt['id']))\n",
        "    for k, v in trt['questionQty'].items():\n",
        "        quantites[k][v] += 1\n",
        "\n",
        "    t_type = trt.get('type')\n",
        "    if t_type:\n",
        "        tournament_types[t_type['name']] += 1\n",
        "    else:\n",
        "        no_type_cnt += 1\n",
        "\n",
        "print(tournament_types, no_type_cnt, id_types)\n",
        "print(quantites)\n",
        "\n",
        "test_tournament_types = defaultdict(int)\n",
        "no_type_cnt = 0\n",
        "id_types = set()\n",
        "quantites = defaultdict(lambda: Counter())\n",
        "for trt in test_tournaments.values():\n",
        "    id_types.add(type(trt['id']))\n",
        "    for k, v in trt['questionQty'].items():\n",
        "        quantites[k][v] += 1\n",
        "\n",
        "    t_type = trt.get('type')\n",
        "    if t_type:\n",
        "        test_tournament_types[t_type['name']] += 1\n",
        "    else:\n",
        "        no_type_cnt += 1\n",
        "\n",
        "print(test_tournament_types, no_type_cnt, id_types)\n",
        "print(quantites)"
      ],
      "execution_count": null,
      "outputs": [
        {
          "output_type": "stream",
          "text": [
            "defaultdict(<class 'int'>, {'Синхрон': 366, 'Асинхрон': 56, 'Обычный': 250, 'Строго синхронный': 6, 'Общий зачёт': 9}) 0 {<class 'int'>}\n",
            "defaultdict(<function <lambda> at 0x7f663d2458c0>, {'1': Counter({12: 439, 15: 149, 13: 29, 18: 27, 10: 14, 14: 8, 36: 8, 9: 5, 8: 3, 11: 2, 100: 1, 45: 1, 23: 1}), '2': Counter({12: 439, 15: 149, 13: 29, 18: 27, 10: 14, 14: 8, 9: 5, 36: 5, 45: 4, 8: 3, 11: 2, 100: 1}), '3': Counter({12: 439, 15: 136, 13: 30, 10: 14, 14: 7, 9: 5, 36: 5, 45: 4, 8: 3, 18: 2, 11: 2, 100: 1}), '4': Counter({15: 74, 12: 73, 10: 11, 36: 6, 9: 5, 8: 3, 18: 2, 11: 2, 13: 1, 100: 1, 45: 1}), '5': Counter({15: 53, 12: 45, 36: 5, 10: 3, 9: 3, 8: 3, 11: 1, 16: 1, 13: 1, 14: 1, 100: 1, 45: 1}), '6': Counter({12: 32, 15: 32, 36: 5, 10: 3, 14: 2, 16: 1, 13: 1, 9: 1, 8: 1, 45: 1}), '7': Counter({12: 7, 15: 5, 14: 2, 10: 1, 9: 1, 13: 1, 8: 1, 36: 1}), '8': Counter({12: 7, 15: 5, 9: 1, 13: 1}), '9': Counter({12: 7, 15: 5, 9: 1, 13: 1}), '10': Counter({12: 6, 15: 5, 9: 1}), '11': Counter({15: 5, 12: 5}), '12': Counter({15: 5, 12: 5}), '13': Counter({12: 5, 15: 2}), '14': Counter({12: 5, 15: 2}), '15': Counter({12: 5, 15: 2}), '16': Counter({15: 2}), '17': Counter({15: 2}), '18': Counter({15: 2}), '19': Counter({15: 2}), '20': Counter({15: 2}), '21': Counter({15: 2}), '22': Counter({15: 2}), '23': Counter({15: 2}), '24': Counter({15: 1}), '25': Counter({15: 1}), '26': Counter({15: 1}), '27': Counter({15: 1}), '28': Counter({15: 1}), '29': Counter({11: 1})})\n",
            "defaultdict(<class 'int'>, {'Синхрон': 187, 'Асинхрон': 53, 'Обычный': 174, 'Строго синхронный': 1, 'Общий зачёт': 3}) 0 {<class 'int'>}\n",
            "defaultdict(<function <lambda> at 0x7f663bd5a3b0>, {'1': Counter({12: 294, 15: 60, 13: 28, 10: 9, 9: 9, 18: 8, 14: 3, 45: 3, 11: 2, 6: 1, 1: 1}), '2': Counter({12: 294, 15: 60, 13: 28, 10: 9, 9: 9, 18: 8, 14: 3, 11: 2, 36: 2, 45: 1, 6: 1, 1: 1}), '3': Counter({12: 268, 15: 54, 13: 28, 10: 9, 9: 9, 14: 3, 11: 2, 36: 1, 6: 1, 1: 1, 16: 1}), '4': Counter({12: 39, 15: 29, 9: 9, 10: 8, 13: 2, 36: 1, 6: 1}), '5': Counter({12: 25, 15: 22, 10: 4, 9: 3, 13: 2, 6: 1}), '6': Counter({12: 21, 15: 14, 10: 3, 6: 1}), '7': Counter({12: 4, 10: 3, 15: 1, 6: 1}), '8': Counter({12: 3, 10: 1, 15: 1, 6: 1}), '9': Counter({12: 3, 15: 1}), '10': Counter({12: 3, 15: 1}), '11': Counter({12: 2, 15: 1}), '12': Counter({12: 2, 15: 1}), '13': Counter({12: 2, 15: 1}), '14': Counter({12: 1, 15: 1}), '15': Counter({12: 1, 15: 1}), '16': Counter({12: 1, 15: 1}), '17': Counter({15: 1}), '18': Counter({15: 1}), '19': Counter({15: 1}), '20': Counter({15: 1}), '21': Counter({15: 1}), '22': Counter({15: 1})})\n"
          ],
          "name": "stdout"
        }
      ]
    },
    {
      "cell_type": "markdown",
      "metadata": {
        "id": "U1Q4_IuABht1"
      },
      "source": [
        "#### есть какие-то совсем странные истории с категориями вопросов - по 25 за 1 турнир? (хотя написано, что марафон..)"
      ]
    },
    {
      "cell_type": "code",
      "metadata": {
        "colab": {
          "base_uri": "https://localhost:8080/"
        },
        "id": "XbldCdg9BeAU",
        "outputId": "5a83cb6b-386c-458a-faef-ea71c458906a"
      },
      "source": [
        "for trt in train_tournaments.values():\n",
        "    for k, v in trt['questionQty'].items():\n",
        "        if k == '25':\n",
        "            break\n",
        "    else:\n",
        "        continue\n",
        "    break\n",
        "trt"
      ],
      "execution_count": null,
      "outputs": [
        {
          "output_type": "execute_result",
          "data": {
            "text/plain": [
              "{'dateEnd': '2019-12-22T15:30:00+03:00',\n",
              " 'dateStart': '2019-12-21T15:30:00+03:00',\n",
              " 'id': 6090,\n",
              " 'name': 'Дзержинский марафон',\n",
              " 'orgcommittee': [{'id': 7551,\n",
              "   'name': 'Алексей',\n",
              "   'patronymic': 'Александрович',\n",
              "   'surname': 'Гончаров'},\n",
              "  {'id': 14452,\n",
              "   'name': 'Олег',\n",
              "   'patronymic': 'Иванович',\n",
              "   'surname': 'Климович'},\n",
              "  {'id': 14457,\n",
              "   'name': 'Татьяна',\n",
              "   'patronymic': 'Григорьевна',\n",
              "   'surname': 'Климович'},\n",
              "  {'id': 19510,\n",
              "   'name': 'Павел',\n",
              "   'patronymic': 'Андреевич',\n",
              "   'surname': 'Малецкий'}],\n",
              " 'questionQty': {'1': 15,\n",
              "  '10': 15,\n",
              "  '11': 15,\n",
              "  '12': 15,\n",
              "  '13': 15,\n",
              "  '14': 15,\n",
              "  '15': 15,\n",
              "  '16': 15,\n",
              "  '17': 15,\n",
              "  '18': 15,\n",
              "  '19': 15,\n",
              "  '2': 15,\n",
              "  '20': 15,\n",
              "  '21': 15,\n",
              "  '22': 15,\n",
              "  '23': 15,\n",
              "  '24': 15,\n",
              "  '25': 15,\n",
              "  '26': 15,\n",
              "  '27': 15,\n",
              "  '28': 15,\n",
              "  '29': 11,\n",
              "  '3': 15,\n",
              "  '4': 15,\n",
              "  '5': 15,\n",
              "  '6': 15,\n",
              "  '7': 15,\n",
              "  '8': 15,\n",
              "  '9': 15},\n",
              " 'season': '/seasons/53',\n",
              " 'synchData': None,\n",
              " 'type': {'id': 2, 'name': 'Обычный'}}"
            ]
          },
          "metadata": {
            "tags": []
          },
          "execution_count": 50
        }
      ]
    },
    {
      "cell_type": "code",
      "metadata": {
        "colab": {
          "base_uri": "https://localhost:8080/"
        },
        "id": "lQY13wtOM50U",
        "outputId": "09c16968-e1b3-4ad7-c499-677952489cc5"
      },
      "source": [
        "questions_distribution = [sum(trt['questionQty'].values()) for trt in train_tournaments.values()]\n",
        "print(min(questions_distribution), max(questions_distribution), np.mean(questions_distribution), np.median(questions_distribution))\n",
        "questions_distribution = [sum(trt['questionQty'].values()) for trt in test_tournaments.values()]\n",
        "print(min(questions_distribution), max(questions_distribution), np.mean(questions_distribution), np.median(questions_distribution))"
      ],
      "execution_count": null,
      "outputs": [
        {
          "output_type": "stream",
          "text": [
            "23 500 49.620087336244545 36.0\n",
            "3 330 43.557416267942585 36.0\n"
          ],
          "name": "stdout"
        }
      ]
    },
    {
      "cell_type": "markdown",
      "metadata": {
        "id": "IVsuloX42OdV"
      },
      "source": [
        "### соберём данные в записи формата - игрок - турнир - результат"
      ]
    },
    {
      "cell_type": "code",
      "metadata": {
        "colab": {
          "base_uri": "https://localhost:8080/"
        },
        "id": "1bB0pb1LJ9_G",
        "outputId": "7130787a-a90b-4a53-9a10-c6b801bad750"
      },
      "source": [
        "%%time\n",
        "results = joblib.load(path_to_files + 'results.pkl')\n",
        "print(len(results))"
      ],
      "execution_count": null,
      "outputs": [
        {
          "output_type": "stream",
          "text": [
            "CPU times: user 2min 47s, sys: 7.26 s, total: 2min 54s\n",
            "Wall time: 2min 54s\n"
          ],
          "name": "stdout"
        }
      ]
    },
    {
      "cell_type": "code",
      "metadata": {
        "colab": {
          "base_uri": "https://localhost:8080/"
        },
        "id": "Lzb9wxc6LDzm",
        "outputId": "1d04edd8-0e6f-4dff-852e-3ad77acf9755"
      },
      "source": [
        "len(results[6069][0])"
      ],
      "execution_count": null,
      "outputs": [
        {
          "output_type": "execute_result",
          "data": {
            "text/plain": [
              "9"
            ]
          },
          "metadata": {
            "tags": []
          },
          "execution_count": 11
        }
      ]
    },
    {
      "cell_type": "code",
      "metadata": {
        "id": "PblYouDDLYeT"
      },
      "source": [
        "results[6069][3]"
      ],
      "execution_count": null,
      "outputs": []
    },
    {
      "cell_type": "code",
      "metadata": {
        "id": "55zDdDF6ECHl"
      },
      "source": [
        "def get_tournament_length(t):\n",
        "    if t['questionQty']:\n",
        "        return sum(t['questionQty'].values())\n",
        "    return 0\n",
        "\n",
        "def validate_mask(mask):\n",
        "    if mask:\n",
        "        if 'X' in mask or '?' in mask:\n",
        "            return False\n",
        "        return True\n",
        "    return False\n",
        "\n",
        "def get_mask_ratios(mask):\n",
        "    \"\"\" \n",
        "    returns total ratio and ratios in first and last part\n",
        "    \"\"\"\n",
        "    total_ratio = mask.count('1') / len(mask)\n",
        "    L = len(mask)\n",
        "    if L < 10:\n",
        "        return total_ratio, total_ratio, total_ratio\n",
        "    halfway = L // 2 + 1\n",
        "    return total_ratio, mask[:halfway].count('1') / (halfway), mask[halfway:].count('1') / (L - halfway)\n",
        "\n",
        "def get_player_name(p):\n",
        "    return ' '.join((p.get(\"surname\", \"\"), p.get(\"name\", \"\"), p.get(\"patronymic\", \"\")))"
      ],
      "execution_count": null,
      "outputs": []
    },
    {
      "cell_type": "code",
      "metadata": {
        "id": "aCVarFTmUI0m"
      },
      "source": [
        "tournament_results"
      ],
      "execution_count": null,
      "outputs": []
    },
    {
      "cell_type": "code",
      "metadata": {
        "id": "r4B-11_YXBi2"
      },
      "source": [
        "selected_results = list()[4500:4510]"
      ],
      "execution_count": null,
      "outputs": []
    },
    {
      "cell_type": "code",
      "metadata": {
        "colab": {
          "base_uri": "https://localhost:8080/"
        },
        "id": "j_EmSQU9XFMX",
        "outputId": "5cc428de-b501-42ad-d7ff-6063975dd15c"
      },
      "source": [
        "[(sr[0], sr[0] in train_tournaments, sr[0] in test_tournaments) for sr in selected_results]"
      ],
      "execution_count": null,
      "outputs": [
        {
          "output_type": "execute_result",
          "data": {
            "text/plain": [
              "[(5363, True, False),\n",
              " (5364, True, False),\n",
              " (5365, False, False),\n",
              " (5366, True, False),\n",
              " (5367, True, False),\n",
              " (5368, True, False),\n",
              " (5369, True, False),\n",
              " (5370, True, False),\n",
              " (5371, True, False),\n",
              " (5372, True, False)]"
            ]
          },
          "metadata": {
            "tags": []
          },
          "execution_count": 110
        }
      ]
    },
    {
      "cell_type": "code",
      "metadata": {
        "colab": {
          "base_uri": "https://localhost:8080/",
          "height": 84,
          "referenced_widgets": [
            "2ee035b19eb14561b6ed8df676af7021",
            "26ea438a05d7496fbd924d8a9f0e8b9e",
            "bc65d26467ba4110a61f80ca372b90a3",
            "8efc3ac975b34f1ea51387080f1a2cd6",
            "2e3fb24192ac42ee97f4a91cd4760e6f",
            "0732d52ecd8c4fe184e3f6bb8cd60baa",
            "ab2b1df6e2754c0e83f57e3479755066",
            "8b35cae9e4af412396f5cac71589af62"
          ]
        },
        "id": "-M9LjQT0_bNF",
        "outputId": "51c16de5-931d-4e17-e7f7-48bff5bdb06e"
      },
      "source": [
        "train_records = []\n",
        "test_records = []\n",
        "broken_tournaments = 0\n",
        "\n",
        "for tournament_id, tournament_results in tqdm(results.items()):\n",
        "    if tournament_id in train_tournaments:\n",
        "        queue = train_records\n",
        "        tournament = train_tournaments[tournament_id]\n",
        "    elif tournament_id in test_tournaments:\n",
        "        queue = test_records\n",
        "        tournament = test_tournaments[tournament_id]\n",
        "    else:\n",
        "        continue\n",
        "\n",
        "    n_questions = get_tournament_length(tournament)\n",
        "    tournament_type = tournament.get('type')\n",
        "    if tournament_type:\n",
        "        tournament_type = tournament_type.get('name')\n",
        "\n",
        "    for team_results in tournament_results:\n",
        "        team_position = int(team_results.get('position', -1))\n",
        "        team = team_results.get('team')\n",
        "        if not team:\n",
        "            continue\n",
        "        team_id = team.get('id', -888)\n",
        "        team_name = team.get('name', 'NO_TEAM_NAME')\n",
        "        mask = team_results.get(\"mask\")\n",
        "        team_record = (tournament_id, tournament_type, team_id, team_name, team_position, n_questions, mask)\n",
        "        if not validate_mask(mask) or len(mask) != n_questions:\n",
        "            # print(f'team record is corrupted or do not match tournaments info: {team_record}')\n",
        "            broken_tournaments += 1\n",
        "            continue\n",
        "        correct_ratio = get_mask_ratios(mask)\n",
        "        for player in team_results[\"teamMembers\"]:\n",
        "            player_params = player.get('player')\n",
        "            if player_params:\n",
        "                player_id = player_params.get('id', -888)\n",
        "                player_name = get_player_name(player_params)\n",
        "                queue.append(team_record + (player_id, player_name) + correct_ratio)\n",
        "\n",
        "print(len(train_records), len(test_records), broken_tournaments)"
      ],
      "execution_count": null,
      "outputs": [
        {
          "output_type": "display_data",
          "data": {
            "application/vnd.jupyter.widget-view+json": {
              "model_id": "2ee035b19eb14561b6ed8df676af7021",
              "version_minor": 0,
              "version_major": 2
            },
            "text/plain": [
              "HBox(children=(FloatProgress(value=0.0, max=5528.0), HTML(value='')))"
            ]
          },
          "metadata": {
            "tags": []
          }
        },
        {
          "output_type": "stream",
          "text": [
            "\n",
            "349825 95186 23113\n"
          ],
          "name": "stdout"
        }
      ]
    },
    {
      "cell_type": "code",
      "metadata": {
        "colab": {
          "base_uri": "https://localhost:8080/",
          "height": 388
        },
        "id": "YM7CUet_gcGh",
        "outputId": "5d3df3cb-ebb6-4d9d-e933-65831245b97b"
      },
      "source": [
        "train_records = pd.DataFrame(train_records, columns = ['tournament_id', 'tournament_type', 'team_id', 'team_name', 'team_position', 'n_questions', 'mask', 'player_id', 'player_name', 'ratio', 'ratio_start', 'ratio_end'])\n",
        "test_records = pd.DataFrame(test_records, columns = ['tournament_id', 'tournament_type', 'team_id', 'team_name', 'team_position', 'n_questions', 'mask', 'player_id', 'player_name', 'ratio', 'ratio_start', 'ratio_end'])\n",
        "\n",
        "display(train_records.head())\n",
        "display(test_records.head())"
      ],
      "execution_count": null,
      "outputs": [
        {
          "output_type": "display_data",
          "data": {
            "text/html": [
              "<div>\n",
              "<style scoped>\n",
              "    .dataframe tbody tr th:only-of-type {\n",
              "        vertical-align: middle;\n",
              "    }\n",
              "\n",
              "    .dataframe tbody tr th {\n",
              "        vertical-align: top;\n",
              "    }\n",
              "\n",
              "    .dataframe thead th {\n",
              "        text-align: right;\n",
              "    }\n",
              "</style>\n",
              "<table border=\"1\" class=\"dataframe\">\n",
              "  <thead>\n",
              "    <tr style=\"text-align: right;\">\n",
              "      <th></th>\n",
              "      <th>tournament_id</th>\n",
              "      <th>tournament_type</th>\n",
              "      <th>team_id</th>\n",
              "      <th>team_name</th>\n",
              "      <th>team_position</th>\n",
              "      <th>n_questions</th>\n",
              "      <th>mask</th>\n",
              "      <th>player_id</th>\n",
              "      <th>player_name</th>\n",
              "      <th>ratio</th>\n",
              "      <th>ratio_start</th>\n",
              "      <th>ratio_end</th>\n",
              "    </tr>\n",
              "  </thead>\n",
              "  <tbody>\n",
              "    <tr>\n",
              "      <th>0</th>\n",
              "      <td>4772</td>\n",
              "      <td>Синхрон</td>\n",
              "      <td>45556</td>\n",
              "      <td>Рабочее название</td>\n",
              "      <td>1</td>\n",
              "      <td>36</td>\n",
              "      <td>111111111011111110111111111100010010</td>\n",
              "      <td>6212</td>\n",
              "      <td>Выменец Юрий Яковлевич</td>\n",
              "      <td>0.777778</td>\n",
              "      <td>0.894737</td>\n",
              "      <td>0.647059</td>\n",
              "    </tr>\n",
              "    <tr>\n",
              "      <th>1</th>\n",
              "      <td>4772</td>\n",
              "      <td>Синхрон</td>\n",
              "      <td>45556</td>\n",
              "      <td>Рабочее название</td>\n",
              "      <td>1</td>\n",
              "      <td>36</td>\n",
              "      <td>111111111011111110111111111100010010</td>\n",
              "      <td>18332</td>\n",
              "      <td>Либер Александр Витальевич</td>\n",
              "      <td>0.777778</td>\n",
              "      <td>0.894737</td>\n",
              "      <td>0.647059</td>\n",
              "    </tr>\n",
              "    <tr>\n",
              "      <th>2</th>\n",
              "      <td>4772</td>\n",
              "      <td>Синхрон</td>\n",
              "      <td>45556</td>\n",
              "      <td>Рабочее название</td>\n",
              "      <td>1</td>\n",
              "      <td>36</td>\n",
              "      <td>111111111011111110111111111100010010</td>\n",
              "      <td>18036</td>\n",
              "      <td>Левандовский Михаил Ильич</td>\n",
              "      <td>0.777778</td>\n",
              "      <td>0.894737</td>\n",
              "      <td>0.647059</td>\n",
              "    </tr>\n",
              "    <tr>\n",
              "      <th>3</th>\n",
              "      <td>4772</td>\n",
              "      <td>Синхрон</td>\n",
              "      <td>45556</td>\n",
              "      <td>Рабочее название</td>\n",
              "      <td>1</td>\n",
              "      <td>36</td>\n",
              "      <td>111111111011111110111111111100010010</td>\n",
              "      <td>22799</td>\n",
              "      <td>Николенко Сергей Игоревич</td>\n",
              "      <td>0.777778</td>\n",
              "      <td>0.894737</td>\n",
              "      <td>0.647059</td>\n",
              "    </tr>\n",
              "    <tr>\n",
              "      <th>4</th>\n",
              "      <td>4772</td>\n",
              "      <td>Синхрон</td>\n",
              "      <td>45556</td>\n",
              "      <td>Рабочее название</td>\n",
              "      <td>1</td>\n",
              "      <td>36</td>\n",
              "      <td>111111111011111110111111111100010010</td>\n",
              "      <td>15456</td>\n",
              "      <td>Коновалов Сергей Владимирович</td>\n",
              "      <td>0.777778</td>\n",
              "      <td>0.894737</td>\n",
              "      <td>0.647059</td>\n",
              "    </tr>\n",
              "  </tbody>\n",
              "</table>\n",
              "</div>"
            ],
            "text/plain": [
              "   tournament_id tournament_type  team_id  ...     ratio  ratio_start  ratio_end\n",
              "0           4772         Синхрон    45556  ...  0.777778     0.894737   0.647059\n",
              "1           4772         Синхрон    45556  ...  0.777778     0.894737   0.647059\n",
              "2           4772         Синхрон    45556  ...  0.777778     0.894737   0.647059\n",
              "3           4772         Синхрон    45556  ...  0.777778     0.894737   0.647059\n",
              "4           4772         Синхрон    45556  ...  0.777778     0.894737   0.647059\n",
              "\n",
              "[5 rows x 12 columns]"
            ]
          },
          "metadata": {
            "tags": []
          }
        },
        {
          "output_type": "display_data",
          "data": {
            "text/html": [
              "<div>\n",
              "<style scoped>\n",
              "    .dataframe tbody tr th:only-of-type {\n",
              "        vertical-align: middle;\n",
              "    }\n",
              "\n",
              "    .dataframe tbody tr th {\n",
              "        vertical-align: top;\n",
              "    }\n",
              "\n",
              "    .dataframe thead th {\n",
              "        text-align: right;\n",
              "    }\n",
              "</style>\n",
              "<table border=\"1\" class=\"dataframe\">\n",
              "  <thead>\n",
              "    <tr style=\"text-align: right;\">\n",
              "      <th></th>\n",
              "      <th>tournament_id</th>\n",
              "      <th>tournament_type</th>\n",
              "      <th>team_id</th>\n",
              "      <th>team_name</th>\n",
              "      <th>team_position</th>\n",
              "      <th>n_questions</th>\n",
              "      <th>mask</th>\n",
              "      <th>player_id</th>\n",
              "      <th>player_name</th>\n",
              "      <th>ratio</th>\n",
              "      <th>ratio_start</th>\n",
              "      <th>ratio_end</th>\n",
              "    </tr>\n",
              "  </thead>\n",
              "  <tbody>\n",
              "    <tr>\n",
              "      <th>0</th>\n",
              "      <td>5414</td>\n",
              "      <td>Синхрон</td>\n",
              "      <td>66120</td>\n",
              "      <td>Чатик</td>\n",
              "      <td>1</td>\n",
              "      <td>36</td>\n",
              "      <td>111111111111111111111110111110101111</td>\n",
              "      <td>18490</td>\n",
              "      <td>Литвинов Дмитрий Сергеевич</td>\n",
              "      <td>0.916667</td>\n",
              "      <td>1.0</td>\n",
              "      <td>0.823529</td>\n",
              "    </tr>\n",
              "    <tr>\n",
              "      <th>1</th>\n",
              "      <td>5414</td>\n",
              "      <td>Синхрон</td>\n",
              "      <td>66120</td>\n",
              "      <td>Чатик</td>\n",
              "      <td>1</td>\n",
              "      <td>36</td>\n",
              "      <td>111111111111111111111110111110101111</td>\n",
              "      <td>116901</td>\n",
              "      <td>Шевцова Екатерина Сергеевна</td>\n",
              "      <td>0.916667</td>\n",
              "      <td>1.0</td>\n",
              "      <td>0.823529</td>\n",
              "    </tr>\n",
              "    <tr>\n",
              "      <th>2</th>\n",
              "      <td>5414</td>\n",
              "      <td>Синхрон</td>\n",
              "      <td>66120</td>\n",
              "      <td>Чатик</td>\n",
              "      <td>1</td>\n",
              "      <td>36</td>\n",
              "      <td>111111111111111111111110111110101111</td>\n",
              "      <td>8532</td>\n",
              "      <td>Гурт Евгений Викторович</td>\n",
              "      <td>0.916667</td>\n",
              "      <td>1.0</td>\n",
              "      <td>0.823529</td>\n",
              "    </tr>\n",
              "    <tr>\n",
              "      <th>3</th>\n",
              "      <td>5414</td>\n",
              "      <td>Синхрон</td>\n",
              "      <td>66120</td>\n",
              "      <td>Чатик</td>\n",
              "      <td>1</td>\n",
              "      <td>36</td>\n",
              "      <td>111111111111111111111110111110101111</td>\n",
              "      <td>42346</td>\n",
              "      <td>Романцова Богдана Михайловна</td>\n",
              "      <td>0.916667</td>\n",
              "      <td>1.0</td>\n",
              "      <td>0.823529</td>\n",
              "    </tr>\n",
              "    <tr>\n",
              "      <th>4</th>\n",
              "      <td>5414</td>\n",
              "      <td>Синхрон</td>\n",
              "      <td>66120</td>\n",
              "      <td>Чатик</td>\n",
              "      <td>1</td>\n",
              "      <td>36</td>\n",
              "      <td>111111111111111111111110111110101111</td>\n",
              "      <td>123190</td>\n",
              "      <td>Красникова Елена Александровна</td>\n",
              "      <td>0.916667</td>\n",
              "      <td>1.0</td>\n",
              "      <td>0.823529</td>\n",
              "    </tr>\n",
              "  </tbody>\n",
              "</table>\n",
              "</div>"
            ],
            "text/plain": [
              "   tournament_id tournament_type  team_id  ...     ratio  ratio_start  ratio_end\n",
              "0           5414         Синхрон    66120  ...  0.916667          1.0   0.823529\n",
              "1           5414         Синхрон    66120  ...  0.916667          1.0   0.823529\n",
              "2           5414         Синхрон    66120  ...  0.916667          1.0   0.823529\n",
              "3           5414         Синхрон    66120  ...  0.916667          1.0   0.823529\n",
              "4           5414         Синхрон    66120  ...  0.916667          1.0   0.823529\n",
              "\n",
              "[5 rows x 12 columns]"
            ]
          },
          "metadata": {
            "tags": []
          }
        }
      ]
    },
    {
      "cell_type": "code",
      "metadata": {
        "colab": {
          "base_uri": "https://localhost:8080/"
        },
        "id": "73ZVyFjqhyVS",
        "outputId": "c9ff1822-37df-4e8a-b7a1-5f25dec81893"
      },
      "source": [
        "train_records[['player_id']].drop_duplicates().shape,\\\n",
        "test_records[['player_id']].drop_duplicates().shape,\\\n",
        "pd.merge(test_records[['player_id']].drop_duplicates(), train_records[['player_id']].drop_duplicates()).shape"
      ],
      "execution_count": null,
      "outputs": [
        {
          "output_type": "execute_result",
          "data": {
            "text/plain": [
              "((55624, 1), (28109, 1), (22169, 1))"
            ]
          },
          "metadata": {
            "tags": []
          },
          "execution_count": 138
        }
      ]
    },
    {
      "cell_type": "markdown",
      "metadata": {
        "id": "C1TOycVaiGAO"
      },
      "source": [
        "#### то есть ~6к игроков впервые встречаются на тестовом сете"
      ]
    },
    {
      "cell_type": "code",
      "metadata": {
        "colab": {
          "base_uri": "https://localhost:8080/",
          "height": 202
        },
        "id": "wmi-_VY7lQhD",
        "outputId": "70506ed3-4998-4e48-86ca-60ffdeeccc3a"
      },
      "source": [
        "test_records['new_player'] = 1 - test_records['player_id'].isin(set(train_records['player_id'])).astype(int)\n",
        "display(test_records.head())"
      ],
      "execution_count": null,
      "outputs": [
        {
          "output_type": "display_data",
          "data": {
            "text/html": [
              "<div>\n",
              "<style scoped>\n",
              "    .dataframe tbody tr th:only-of-type {\n",
              "        vertical-align: middle;\n",
              "    }\n",
              "\n",
              "    .dataframe tbody tr th {\n",
              "        vertical-align: top;\n",
              "    }\n",
              "\n",
              "    .dataframe thead th {\n",
              "        text-align: right;\n",
              "    }\n",
              "</style>\n",
              "<table border=\"1\" class=\"dataframe\">\n",
              "  <thead>\n",
              "    <tr style=\"text-align: right;\">\n",
              "      <th></th>\n",
              "      <th>tournament_id</th>\n",
              "      <th>tournament_type</th>\n",
              "      <th>team_id</th>\n",
              "      <th>team_name</th>\n",
              "      <th>team_position</th>\n",
              "      <th>n_questions</th>\n",
              "      <th>mask</th>\n",
              "      <th>player_id</th>\n",
              "      <th>player_name</th>\n",
              "      <th>ratio</th>\n",
              "      <th>ratio_start</th>\n",
              "      <th>ratio_end</th>\n",
              "      <th>new_player</th>\n",
              "    </tr>\n",
              "  </thead>\n",
              "  <tbody>\n",
              "    <tr>\n",
              "      <th>0</th>\n",
              "      <td>5414</td>\n",
              "      <td>Синхрон</td>\n",
              "      <td>66120</td>\n",
              "      <td>Чатик</td>\n",
              "      <td>1</td>\n",
              "      <td>36</td>\n",
              "      <td>111111111111111111111110111110101111</td>\n",
              "      <td>18490</td>\n",
              "      <td>Литвинов Дмитрий Сергеевич</td>\n",
              "      <td>0.916667</td>\n",
              "      <td>1.0</td>\n",
              "      <td>0.823529</td>\n",
              "      <td>0</td>\n",
              "    </tr>\n",
              "    <tr>\n",
              "      <th>1</th>\n",
              "      <td>5414</td>\n",
              "      <td>Синхрон</td>\n",
              "      <td>66120</td>\n",
              "      <td>Чатик</td>\n",
              "      <td>1</td>\n",
              "      <td>36</td>\n",
              "      <td>111111111111111111111110111110101111</td>\n",
              "      <td>116901</td>\n",
              "      <td>Шевцова Екатерина Сергеевна</td>\n",
              "      <td>0.916667</td>\n",
              "      <td>1.0</td>\n",
              "      <td>0.823529</td>\n",
              "      <td>0</td>\n",
              "    </tr>\n",
              "    <tr>\n",
              "      <th>2</th>\n",
              "      <td>5414</td>\n",
              "      <td>Синхрон</td>\n",
              "      <td>66120</td>\n",
              "      <td>Чатик</td>\n",
              "      <td>1</td>\n",
              "      <td>36</td>\n",
              "      <td>111111111111111111111110111110101111</td>\n",
              "      <td>8532</td>\n",
              "      <td>Гурт Евгений Викторович</td>\n",
              "      <td>0.916667</td>\n",
              "      <td>1.0</td>\n",
              "      <td>0.823529</td>\n",
              "      <td>0</td>\n",
              "    </tr>\n",
              "    <tr>\n",
              "      <th>3</th>\n",
              "      <td>5414</td>\n",
              "      <td>Синхрон</td>\n",
              "      <td>66120</td>\n",
              "      <td>Чатик</td>\n",
              "      <td>1</td>\n",
              "      <td>36</td>\n",
              "      <td>111111111111111111111110111110101111</td>\n",
              "      <td>42346</td>\n",
              "      <td>Романцова Богдана Михайловна</td>\n",
              "      <td>0.916667</td>\n",
              "      <td>1.0</td>\n",
              "      <td>0.823529</td>\n",
              "      <td>0</td>\n",
              "    </tr>\n",
              "    <tr>\n",
              "      <th>4</th>\n",
              "      <td>5414</td>\n",
              "      <td>Синхрон</td>\n",
              "      <td>66120</td>\n",
              "      <td>Чатик</td>\n",
              "      <td>1</td>\n",
              "      <td>36</td>\n",
              "      <td>111111111111111111111110111110101111</td>\n",
              "      <td>123190</td>\n",
              "      <td>Красникова Елена Александровна</td>\n",
              "      <td>0.916667</td>\n",
              "      <td>1.0</td>\n",
              "      <td>0.823529</td>\n",
              "      <td>0</td>\n",
              "    </tr>\n",
              "  </tbody>\n",
              "</table>\n",
              "</div>"
            ],
            "text/plain": [
              "   tournament_id tournament_type  team_id  ... ratio_start  ratio_end  new_player\n",
              "0           5414         Синхрон    66120  ...         1.0   0.823529           0\n",
              "1           5414         Синхрон    66120  ...         1.0   0.823529           0\n",
              "2           5414         Синхрон    66120  ...         1.0   0.823529           0\n",
              "3           5414         Синхрон    66120  ...         1.0   0.823529           0\n",
              "4           5414         Синхрон    66120  ...         1.0   0.823529           0\n",
              "\n",
              "[5 rows x 13 columns]"
            ]
          },
          "metadata": {
            "tags": []
          }
        }
      ]
    },
    {
      "cell_type": "code",
      "metadata": {
        "id": "yfg09rgdH9xg"
      },
      "source": [
        "train_records.to_csv(path_to_files + 'train_records.csv', index = False)\n",
        "test_records.to_csv(path_to_files + 'test_records.csv', index = False)"
      ],
      "execution_count": null,
      "outputs": []
    },
    {
      "cell_type": "markdown",
      "metadata": {
        "id": "rDyewhrkIvVI"
      },
      "source": [
        "### loading data"
      ]
    },
    {
      "cell_type": "code",
      "metadata": {
        "colab": {
          "base_uri": "https://localhost:8080/",
          "height": 440
        },
        "id": "YpDUzWEuxmym",
        "outputId": "6191a614-8d4a-4544-b4d6-6d88d40fbd70"
      },
      "source": [
        "%%time \n",
        "\n",
        "train_records = pd.read_csv(path_to_files + 'train_records.csv')\n",
        "test_records = pd.read_csv(path_to_files + 'test_records.csv')\n",
        "\n",
        "train_players = set(train_records['player_id'])\n",
        "test_players = set(test_records['player_id'])\n",
        "new_test_players = test_players.difference(train_players)\n",
        "old_test_players = test_players.intersection(train_players)\n",
        "\n",
        "print(len(train_players), len(test_players), len(old_test_players), len(new_test_players))\n",
        "\n",
        "display(train_records.head())\n",
        "display(test_records.head())"
      ],
      "execution_count": 2,
      "outputs": [
        {
          "output_type": "stream",
          "text": [
            "55624 28109 22169 5940\n"
          ],
          "name": "stdout"
        },
        {
          "output_type": "display_data",
          "data": {
            "text/html": [
              "<div>\n",
              "<style scoped>\n",
              "    .dataframe tbody tr th:only-of-type {\n",
              "        vertical-align: middle;\n",
              "    }\n",
              "\n",
              "    .dataframe tbody tr th {\n",
              "        vertical-align: top;\n",
              "    }\n",
              "\n",
              "    .dataframe thead th {\n",
              "        text-align: right;\n",
              "    }\n",
              "</style>\n",
              "<table border=\"1\" class=\"dataframe\">\n",
              "  <thead>\n",
              "    <tr style=\"text-align: right;\">\n",
              "      <th></th>\n",
              "      <th>tournament_id</th>\n",
              "      <th>tournament_type</th>\n",
              "      <th>team_id</th>\n",
              "      <th>team_name</th>\n",
              "      <th>team_position</th>\n",
              "      <th>n_questions</th>\n",
              "      <th>mask</th>\n",
              "      <th>player_id</th>\n",
              "      <th>player_name</th>\n",
              "      <th>ratio</th>\n",
              "      <th>ratio_start</th>\n",
              "      <th>ratio_end</th>\n",
              "    </tr>\n",
              "  </thead>\n",
              "  <tbody>\n",
              "    <tr>\n",
              "      <th>0</th>\n",
              "      <td>4772</td>\n",
              "      <td>Синхрон</td>\n",
              "      <td>45556</td>\n",
              "      <td>Рабочее название</td>\n",
              "      <td>1</td>\n",
              "      <td>36</td>\n",
              "      <td>111111111011111110111111111100010010</td>\n",
              "      <td>6212</td>\n",
              "      <td>Выменец Юрий Яковлевич</td>\n",
              "      <td>0.777778</td>\n",
              "      <td>0.894737</td>\n",
              "      <td>0.647059</td>\n",
              "    </tr>\n",
              "    <tr>\n",
              "      <th>1</th>\n",
              "      <td>4772</td>\n",
              "      <td>Синхрон</td>\n",
              "      <td>45556</td>\n",
              "      <td>Рабочее название</td>\n",
              "      <td>1</td>\n",
              "      <td>36</td>\n",
              "      <td>111111111011111110111111111100010010</td>\n",
              "      <td>18332</td>\n",
              "      <td>Либер Александр Витальевич</td>\n",
              "      <td>0.777778</td>\n",
              "      <td>0.894737</td>\n",
              "      <td>0.647059</td>\n",
              "    </tr>\n",
              "    <tr>\n",
              "      <th>2</th>\n",
              "      <td>4772</td>\n",
              "      <td>Синхрон</td>\n",
              "      <td>45556</td>\n",
              "      <td>Рабочее название</td>\n",
              "      <td>1</td>\n",
              "      <td>36</td>\n",
              "      <td>111111111011111110111111111100010010</td>\n",
              "      <td>18036</td>\n",
              "      <td>Левандовский Михаил Ильич</td>\n",
              "      <td>0.777778</td>\n",
              "      <td>0.894737</td>\n",
              "      <td>0.647059</td>\n",
              "    </tr>\n",
              "    <tr>\n",
              "      <th>3</th>\n",
              "      <td>4772</td>\n",
              "      <td>Синхрон</td>\n",
              "      <td>45556</td>\n",
              "      <td>Рабочее название</td>\n",
              "      <td>1</td>\n",
              "      <td>36</td>\n",
              "      <td>111111111011111110111111111100010010</td>\n",
              "      <td>22799</td>\n",
              "      <td>Николенко Сергей Игоревич</td>\n",
              "      <td>0.777778</td>\n",
              "      <td>0.894737</td>\n",
              "      <td>0.647059</td>\n",
              "    </tr>\n",
              "    <tr>\n",
              "      <th>4</th>\n",
              "      <td>4772</td>\n",
              "      <td>Синхрон</td>\n",
              "      <td>45556</td>\n",
              "      <td>Рабочее название</td>\n",
              "      <td>1</td>\n",
              "      <td>36</td>\n",
              "      <td>111111111011111110111111111100010010</td>\n",
              "      <td>15456</td>\n",
              "      <td>Коновалов Сергей Владимирович</td>\n",
              "      <td>0.777778</td>\n",
              "      <td>0.894737</td>\n",
              "      <td>0.647059</td>\n",
              "    </tr>\n",
              "  </tbody>\n",
              "</table>\n",
              "</div>"
            ],
            "text/plain": [
              "   tournament_id tournament_type  team_id  ...     ratio  ratio_start  ratio_end\n",
              "0           4772         Синхрон    45556  ...  0.777778     0.894737   0.647059\n",
              "1           4772         Синхрон    45556  ...  0.777778     0.894737   0.647059\n",
              "2           4772         Синхрон    45556  ...  0.777778     0.894737   0.647059\n",
              "3           4772         Синхрон    45556  ...  0.777778     0.894737   0.647059\n",
              "4           4772         Синхрон    45556  ...  0.777778     0.894737   0.647059\n",
              "\n",
              "[5 rows x 12 columns]"
            ]
          },
          "metadata": {
            "tags": []
          }
        },
        {
          "output_type": "display_data",
          "data": {
            "text/html": [
              "<div>\n",
              "<style scoped>\n",
              "    .dataframe tbody tr th:only-of-type {\n",
              "        vertical-align: middle;\n",
              "    }\n",
              "\n",
              "    .dataframe tbody tr th {\n",
              "        vertical-align: top;\n",
              "    }\n",
              "\n",
              "    .dataframe thead th {\n",
              "        text-align: right;\n",
              "    }\n",
              "</style>\n",
              "<table border=\"1\" class=\"dataframe\">\n",
              "  <thead>\n",
              "    <tr style=\"text-align: right;\">\n",
              "      <th></th>\n",
              "      <th>tournament_id</th>\n",
              "      <th>tournament_type</th>\n",
              "      <th>team_id</th>\n",
              "      <th>team_name</th>\n",
              "      <th>team_position</th>\n",
              "      <th>n_questions</th>\n",
              "      <th>mask</th>\n",
              "      <th>player_id</th>\n",
              "      <th>player_name</th>\n",
              "      <th>ratio</th>\n",
              "      <th>ratio_start</th>\n",
              "      <th>ratio_end</th>\n",
              "      <th>new_player</th>\n",
              "    </tr>\n",
              "  </thead>\n",
              "  <tbody>\n",
              "    <tr>\n",
              "      <th>0</th>\n",
              "      <td>5414</td>\n",
              "      <td>Синхрон</td>\n",
              "      <td>66120</td>\n",
              "      <td>Чатик</td>\n",
              "      <td>1</td>\n",
              "      <td>36</td>\n",
              "      <td>111111111111111111111110111110101111</td>\n",
              "      <td>18490</td>\n",
              "      <td>Литвинов Дмитрий Сергеевич</td>\n",
              "      <td>0.916667</td>\n",
              "      <td>1.0</td>\n",
              "      <td>0.823529</td>\n",
              "      <td>0</td>\n",
              "    </tr>\n",
              "    <tr>\n",
              "      <th>1</th>\n",
              "      <td>5414</td>\n",
              "      <td>Синхрон</td>\n",
              "      <td>66120</td>\n",
              "      <td>Чатик</td>\n",
              "      <td>1</td>\n",
              "      <td>36</td>\n",
              "      <td>111111111111111111111110111110101111</td>\n",
              "      <td>116901</td>\n",
              "      <td>Шевцова Екатерина Сергеевна</td>\n",
              "      <td>0.916667</td>\n",
              "      <td>1.0</td>\n",
              "      <td>0.823529</td>\n",
              "      <td>0</td>\n",
              "    </tr>\n",
              "    <tr>\n",
              "      <th>2</th>\n",
              "      <td>5414</td>\n",
              "      <td>Синхрон</td>\n",
              "      <td>66120</td>\n",
              "      <td>Чатик</td>\n",
              "      <td>1</td>\n",
              "      <td>36</td>\n",
              "      <td>111111111111111111111110111110101111</td>\n",
              "      <td>8532</td>\n",
              "      <td>Гурт Евгений Викторович</td>\n",
              "      <td>0.916667</td>\n",
              "      <td>1.0</td>\n",
              "      <td>0.823529</td>\n",
              "      <td>0</td>\n",
              "    </tr>\n",
              "    <tr>\n",
              "      <th>3</th>\n",
              "      <td>5414</td>\n",
              "      <td>Синхрон</td>\n",
              "      <td>66120</td>\n",
              "      <td>Чатик</td>\n",
              "      <td>1</td>\n",
              "      <td>36</td>\n",
              "      <td>111111111111111111111110111110101111</td>\n",
              "      <td>42346</td>\n",
              "      <td>Романцова Богдана Михайловна</td>\n",
              "      <td>0.916667</td>\n",
              "      <td>1.0</td>\n",
              "      <td>0.823529</td>\n",
              "      <td>0</td>\n",
              "    </tr>\n",
              "    <tr>\n",
              "      <th>4</th>\n",
              "      <td>5414</td>\n",
              "      <td>Синхрон</td>\n",
              "      <td>66120</td>\n",
              "      <td>Чатик</td>\n",
              "      <td>1</td>\n",
              "      <td>36</td>\n",
              "      <td>111111111111111111111110111110101111</td>\n",
              "      <td>123190</td>\n",
              "      <td>Красникова Елена Александровна</td>\n",
              "      <td>0.916667</td>\n",
              "      <td>1.0</td>\n",
              "      <td>0.823529</td>\n",
              "      <td>0</td>\n",
              "    </tr>\n",
              "  </tbody>\n",
              "</table>\n",
              "</div>"
            ],
            "text/plain": [
              "   tournament_id tournament_type  team_id  ... ratio_start  ratio_end  new_player\n",
              "0           5414         Синхрон    66120  ...         1.0   0.823529           0\n",
              "1           5414         Синхрон    66120  ...         1.0   0.823529           0\n",
              "2           5414         Синхрон    66120  ...         1.0   0.823529           0\n",
              "3           5414         Синхрон    66120  ...         1.0   0.823529           0\n",
              "4           5414         Синхрон    66120  ...         1.0   0.823529           0\n",
              "\n",
              "[5 rows x 13 columns]"
            ]
          },
          "metadata": {
            "tags": []
          }
        },
        {
          "output_type": "stream",
          "text": [
            "CPU times: user 1.06 s, sys: 106 ms, total: 1.17 s\n",
            "Wall time: 2.79 s\n"
          ],
          "name": "stdout"
        }
      ]
    },
    {
      "cell_type": "markdown",
      "metadata": {
        "id": "WFxXpducoxUL"
      },
      "source": [
        "Разнесём ответы на каждый из вопросов в турнире для каждого игрока"
      ]
    },
    {
      "cell_type": "code",
      "metadata": {
        "id": "m92iaDvBoeMO",
        "colab": {
          "base_uri": "https://localhost:8080/",
          "height": 118,
          "referenced_widgets": [
            "cf0327b8ed14400ca96a4bed935a523e",
            "0936f36f84bb47b0b62f4303e38bda70",
            "2df6e216905342eaa74d5b6a54366b0f",
            "2ff86ea3f40545a283cf8ab8dc39ee9e",
            "d22370084d1f4304b7114ce5f5534a11",
            "2f1a5cb4c06f429ba34ad2f5f09b27e0",
            "fc2b546385554f069c74b4a8227656de",
            "6a883ef834ce44cf8b0d8ba972e0f49d"
          ]
        },
        "outputId": "125e1080-6b40-469a-ebd0-d7bf12943092"
      },
      "source": [
        "%%time \n",
        "\n",
        "train_questions_records = []\n",
        "\n",
        "for row in tqdm(train_records.itertuples()):\n",
        "    tournament_id, tournament_type, team_id, team_name, team_position, n_questions, mask, player_id, player_name, ratio, ratio_start, ratio_end = row[1:]\n",
        "    for i, answer in enumerate(mask):\n",
        "        train_questions_records.append((tournament_id, tournament_type, team_id, player_id, n_questions, i, int(answer)))\n",
        "\n",
        "print(len(train_questions_records))\n",
        "\n",
        "train_questions_records = pd.DataFrame(train_questions_records, columns = ['tournament_id', 'tournament_type', 'team_id', 'player_id', 'n_questions', 'question_index', 'y'])"
      ],
      "execution_count": 7,
      "outputs": [
        {
          "output_type": "display_data",
          "data": {
            "application/vnd.jupyter.widget-view+json": {
              "model_id": "cf0327b8ed14400ca96a4bed935a523e",
              "version_minor": 0,
              "version_major": 2
            },
            "text/plain": [
              "HBox(children=(FloatProgress(value=1.0, bar_style='info', max=1.0), HTML(value='')))"
            ]
          },
          "metadata": {
            "tags": []
          }
        },
        {
          "output_type": "stream",
          "text": [
            "\n",
            "14678548\n",
            "CPU times: user 31.7 s, sys: 3.8 s, total: 35.5 s\n",
            "Wall time: 35.4 s\n"
          ],
          "name": "stdout"
        }
      ]
    },
    {
      "cell_type": "code",
      "metadata": {
        "id": "ngUWpKVANdrD",
        "colab": {
          "base_uri": "https://localhost:8080/",
          "height": 265
        },
        "outputId": "0a535e14-ee4f-4c33-f6cc-bcc0c700c6c9"
      },
      "source": [
        "display(train_questions_records.head(3))\n",
        "display(train_questions_records.tail(3))"
      ],
      "execution_count": 8,
      "outputs": [
        {
          "output_type": "display_data",
          "data": {
            "text/html": [
              "<div>\n",
              "<style scoped>\n",
              "    .dataframe tbody tr th:only-of-type {\n",
              "        vertical-align: middle;\n",
              "    }\n",
              "\n",
              "    .dataframe tbody tr th {\n",
              "        vertical-align: top;\n",
              "    }\n",
              "\n",
              "    .dataframe thead th {\n",
              "        text-align: right;\n",
              "    }\n",
              "</style>\n",
              "<table border=\"1\" class=\"dataframe\">\n",
              "  <thead>\n",
              "    <tr style=\"text-align: right;\">\n",
              "      <th></th>\n",
              "      <th>tournament_id</th>\n",
              "      <th>tournament_type</th>\n",
              "      <th>team_id</th>\n",
              "      <th>player_id</th>\n",
              "      <th>n_questions</th>\n",
              "      <th>question_index</th>\n",
              "      <th>y</th>\n",
              "    </tr>\n",
              "  </thead>\n",
              "  <tbody>\n",
              "    <tr>\n",
              "      <th>0</th>\n",
              "      <td>4772</td>\n",
              "      <td>Синхрон</td>\n",
              "      <td>45556</td>\n",
              "      <td>6212</td>\n",
              "      <td>36</td>\n",
              "      <td>0</td>\n",
              "      <td>1</td>\n",
              "    </tr>\n",
              "    <tr>\n",
              "      <th>1</th>\n",
              "      <td>4772</td>\n",
              "      <td>Синхрон</td>\n",
              "      <td>45556</td>\n",
              "      <td>6212</td>\n",
              "      <td>36</td>\n",
              "      <td>1</td>\n",
              "      <td>1</td>\n",
              "    </tr>\n",
              "    <tr>\n",
              "      <th>2</th>\n",
              "      <td>4772</td>\n",
              "      <td>Синхрон</td>\n",
              "      <td>45556</td>\n",
              "      <td>6212</td>\n",
              "      <td>36</td>\n",
              "      <td>2</td>\n",
              "      <td>1</td>\n",
              "    </tr>\n",
              "  </tbody>\n",
              "</table>\n",
              "</div>"
            ],
            "text/plain": [
              "   tournament_id tournament_type  team_id  ...  n_questions  question_index  y\n",
              "0           4772         Синхрон    45556  ...           36               0  1\n",
              "1           4772         Синхрон    45556  ...           36               1  1\n",
              "2           4772         Синхрон    45556  ...           36               2  1\n",
              "\n",
              "[3 rows x 7 columns]"
            ]
          },
          "metadata": {
            "tags": []
          }
        },
        {
          "output_type": "display_data",
          "data": {
            "text/html": [
              "<div>\n",
              "<style scoped>\n",
              "    .dataframe tbody tr th:only-of-type {\n",
              "        vertical-align: middle;\n",
              "    }\n",
              "\n",
              "    .dataframe tbody tr th {\n",
              "        vertical-align: top;\n",
              "    }\n",
              "\n",
              "    .dataframe thead th {\n",
              "        text-align: right;\n",
              "    }\n",
              "</style>\n",
              "<table border=\"1\" class=\"dataframe\">\n",
              "  <thead>\n",
              "    <tr style=\"text-align: right;\">\n",
              "      <th></th>\n",
              "      <th>tournament_id</th>\n",
              "      <th>tournament_type</th>\n",
              "      <th>team_id</th>\n",
              "      <th>player_id</th>\n",
              "      <th>n_questions</th>\n",
              "      <th>question_index</th>\n",
              "      <th>y</th>\n",
              "    </tr>\n",
              "  </thead>\n",
              "  <tbody>\n",
              "    <tr>\n",
              "      <th>14678545</th>\n",
              "      <td>6254</td>\n",
              "      <td>Общий зачёт</td>\n",
              "      <td>74229</td>\n",
              "      <td>208188</td>\n",
              "      <td>216</td>\n",
              "      <td>213</td>\n",
              "      <td>0</td>\n",
              "    </tr>\n",
              "    <tr>\n",
              "      <th>14678546</th>\n",
              "      <td>6254</td>\n",
              "      <td>Общий зачёт</td>\n",
              "      <td>74229</td>\n",
              "      <td>208188</td>\n",
              "      <td>216</td>\n",
              "      <td>214</td>\n",
              "      <td>0</td>\n",
              "    </tr>\n",
              "    <tr>\n",
              "      <th>14678547</th>\n",
              "      <td>6254</td>\n",
              "      <td>Общий зачёт</td>\n",
              "      <td>74229</td>\n",
              "      <td>208188</td>\n",
              "      <td>216</td>\n",
              "      <td>215</td>\n",
              "      <td>0</td>\n",
              "    </tr>\n",
              "  </tbody>\n",
              "</table>\n",
              "</div>"
            ],
            "text/plain": [
              "          tournament_id tournament_type  ...  question_index  y\n",
              "14678545           6254     Общий зачёт  ...             213  0\n",
              "14678546           6254     Общий зачёт  ...             214  0\n",
              "14678547           6254     Общий зачёт  ...             215  0\n",
              "\n",
              "[3 rows x 7 columns]"
            ]
          },
          "metadata": {
            "tags": []
          }
        }
      ]
    },
    {
      "cell_type": "code",
      "metadata": {
        "id": "_jS5HbZDNd37"
      },
      "source": [
        "def get_question_complexity(df, player_level = True):\n",
        "    \"\"\"\n",
        "    функция генерирует сложность вопроса как \"1 - доля игроков/команд, ответивших на него верно\"\n",
        "    здесь может быть некоторый лик, если считать с учётом команды, для которой рассчитывается фактор\n",
        "    например, если все команды ответили верно, то доля равна 1 и очевидно таргет для наблюдения также равен 1\n",
        "    если исключать команду, то получается некоторый аналог target-encoding по фолдам (конкретно здесь leave-one-out)\n",
        "    по идее, если сложность вопроса высокая, но у команды таргет 1, то это должно увеличивать вес one-hot-фактора игрока для каждого из игроков в команде\n",
        "    \"\"\"\n",
        "\n",
        "    ### сколько всего людей отвечало на вопрос/ответило верно/сколько всего команд отвечало на вопрос\n",
        "    answers_question_count = df.groupby(['tournament_id', 'question_index']).agg({\n",
        "        'player_id': 'nunique',  'y':'sum', 'team_id': 'nunique',\n",
        "        }).reset_index().rename({\n",
        "        'player_id':'players_total_answers', 'y':'players_correct_answers', 'team_id':'teams_total_answers'\n",
        "        }, axis = 1)\n",
        "        \n",
        "    # ### сколько всего человек в каждой команде\n",
        "    team_player_count = df.groupby(['tournament_id', 'team_id']).agg({'player_id': 'nunique'}).reset_index().rename({'player_id':'team_players_total'}, axis = 1)\n",
        "    if player_level:\n",
        "        df1 = pd.merge(pd.merge(df, answers_question_count, on = ['tournament_id', 'question_index']), team_player_count, on = ['tournament_id', 'team_id'])\n",
        "        df1['question_complexity'] = 1 - (df1['players_correct_answers'] - (df1['y'] * df1['team_players_total'])) / (df1['players_total_answers'] - df1['team_players_total'])\n",
        "        return df1['question_complexity']\n",
        "\n",
        "    # ### ответ команды на вопрос\n",
        "    team_question_answer = df.groupby(['tournament_id', 'question_index', 'team_id']).agg({'y': 'max'}).reset_index().rename({'y':'team_answer'}, axis = 1)\n",
        "    # ### cколько команд ответило верно\n",
        "    question_answer_team_count = team_question_answer.groupby(['tournament_id', 'question_index']).agg({'team_answer':'sum'}).reset_index().rename({'team_answer':'teams_correct_answers'}, axis = 1)\n",
        "    del team_question_answer\n",
        "    df2 = pd.merge(pd.merge(pd.merge(df,\n",
        "                                     answers_question_count, on = ['tournament_id', 'question_index']),\n",
        "                            team_player_count, on = ['tournament_id', 'team_id']),\n",
        "                   question_answer_team_count, on = ['tournament_id', 'question_index'])\n",
        "    df2['question_complexity'] = 1 - (df2['teams_correct_answers'] - (df2['y'] * 1)) / (df2['teams_total_answers'] - 1)\n",
        "    return df2['question_complexity']\n"
      ],
      "execution_count": 9,
      "outputs": []
    },
    {
      "cell_type": "code",
      "metadata": {
        "id": "CR6rFwQM8zjb"
      },
      "source": [
        "train_questions_records['players_question_complexity'] = get_question_complexity(train_questions_records, player_level = True)\n",
        "train_questions_records['teams_question_complexity'] = get_question_complexity(train_questions_records, player_level = False)"
      ],
      "execution_count": 10,
      "outputs": []
    },
    {
      "cell_type": "code",
      "metadata": {
        "colab": {
          "base_uri": "https://localhost:8080/"
        },
        "id": "-0YzCgEWA9kd",
        "outputId": "abb2d69b-416c-47e1-9e74-936c6097e672"
      },
      "source": [
        "spearmanr(train_questions_records['players_question_complexity'], train_questions_records['teams_question_complexity'])"
      ],
      "execution_count": 11,
      "outputs": [
        {
          "output_type": "execute_result",
          "data": {
            "text/plain": [
              "SpearmanrResult(correlation=nan, pvalue=nan)"
            ]
          },
          "metadata": {
            "tags": []
          },
          "execution_count": 11
        }
      ]
    },
    {
      "cell_type": "code",
      "metadata": {
        "colab": {
          "base_uri": "https://localhost:8080/"
        },
        "id": "1Q8WeycmBIUB",
        "outputId": "a25c3340-ebd3-4acb-a049-ee1ff9bda9f5"
      },
      "source": [
        "train_questions_records['players_question_complexity'].isna().sum(), train_questions_records['teams_question_complexity'].isna().sum(), "
      ],
      "execution_count": 12,
      "outputs": [
        {
          "output_type": "execute_result",
          "data": {
            "text/plain": [
              "(252, 252)"
            ]
          },
          "metadata": {
            "tags": []
          },
          "execution_count": 12
        }
      ]
    },
    {
      "cell_type": "code",
      "metadata": {
        "colab": {
          "base_uri": "https://localhost:8080/",
          "height": 141
        },
        "id": "mmq5NT8yBSbX",
        "outputId": "db17fe1b-bff0-4d52-a2df-774ac0b48896"
      },
      "source": [
        "#### в некоторых турнирах было по одной команде..?\n",
        "train_questions_records[train_questions_records['players_question_complexity'].isna()].groupby(['tournament_id']).agg({'team_id':'nunique'})"
      ],
      "execution_count": 13,
      "outputs": [
        {
          "output_type": "execute_result",
          "data": {
            "text/html": [
              "<div>\n",
              "<style scoped>\n",
              "    .dataframe tbody tr th:only-of-type {\n",
              "        vertical-align: middle;\n",
              "    }\n",
              "\n",
              "    .dataframe tbody tr th {\n",
              "        vertical-align: top;\n",
              "    }\n",
              "\n",
              "    .dataframe thead th {\n",
              "        text-align: right;\n",
              "    }\n",
              "</style>\n",
              "<table border=\"1\" class=\"dataframe\">\n",
              "  <thead>\n",
              "    <tr style=\"text-align: right;\">\n",
              "      <th></th>\n",
              "      <th>team_id</th>\n",
              "    </tr>\n",
              "    <tr>\n",
              "      <th>tournament_id</th>\n",
              "      <th></th>\n",
              "    </tr>\n",
              "  </thead>\n",
              "  <tbody>\n",
              "    <tr>\n",
              "      <th>5876</th>\n",
              "      <td>1</td>\n",
              "    </tr>\n",
              "    <tr>\n",
              "      <th>6102</th>\n",
              "      <td>1</td>\n",
              "    </tr>\n",
              "  </tbody>\n",
              "</table>\n",
              "</div>"
            ],
            "text/plain": [
              "               team_id\n",
              "tournament_id         \n",
              "5876                 1\n",
              "6102                 1"
            ]
          },
          "metadata": {
            "tags": []
          },
          "execution_count": 13
        }
      ]
    },
    {
      "cell_type": "code",
      "metadata": {
        "colab": {
          "base_uri": "https://localhost:8080/"
        },
        "id": "ObXuFRh8A3uF",
        "outputId": "f5abd8d9-cd86-41d7-a290-5482a460faa4"
      },
      "source": [
        "#### странно, что корреляция такая низкая\n",
        "spearmanr(train_questions_records['players_question_complexity'].dropna(), train_questions_records['teams_question_complexity'].dropna())"
      ],
      "execution_count": 14,
      "outputs": [
        {
          "output_type": "execute_result",
          "data": {
            "text/plain": [
              "SpearmanrResult(correlation=0.13265913271298094, pvalue=0.0)"
            ]
          },
          "metadata": {
            "tags": []
          },
          "execution_count": 14
        }
      ]
    },
    {
      "cell_type": "code",
      "metadata": {
        "colab": {
          "base_uri": "https://localhost:8080/"
        },
        "id": "G6bXav0SDk9E",
        "outputId": "cc09e15a-71ee-4bb2-b3f7-7abf0a5754d6"
      },
      "source": [
        "pqc_min, pqc_mean, pqc_max = [f(x) for f, x in zip((np.nanmin,np.nanmean,np.nanmax), repeat(train_questions_records['players_question_complexity']))]\n",
        "print(pqc_min, pqc_mean, pqc_max)\n",
        "\n",
        "tqc_min, tqc_mean, tqc_max = [f(x) for f, x in zip((np.nanmin,np.nanmean,np.nanmax), repeat(train_questions_records['teams_question_complexity']))]\n",
        "print(tqc_min, tqc_mean, tqc_max)\n",
        "\n",
        "train_questions_records['players_question_complexity'] = train_questions_records['players_question_complexity'].fillna(pqc_mean)\n",
        "train_questions_records['teams_question_complexity'] = train_questions_records['teams_question_complexity'].fillna(tqc_mean)"
      ],
      "execution_count": 15,
      "outputs": [
        {
          "output_type": "stream",
          "text": [
            "0.0 0.5678659483437233 1.0\n",
            "0.0 0.5754650824184429 1.0\n"
          ],
          "name": "stdout"
        }
      ]
    },
    {
      "cell_type": "code",
      "metadata": {
        "id": "tT09FGE9RMcn"
      },
      "source": [
        "train_questions_records.to_csv(path_to_files + 'train_questions_records.csv', index = False)"
      ],
      "execution_count": 61,
      "outputs": []
    },
    {
      "cell_type": "code",
      "metadata": {
        "colab": {
          "base_uri": "https://localhost:8080/"
        },
        "id": "Je-yg7AJRSm7",
        "outputId": "a2128c13-64df-4146-cda7-f93c381b4058"
      },
      "source": [
        "%%time \n",
        "train_questions_records = pd.read_csv(path_to_files + 'train_questions_records.csv')\n",
        "train_questions_records.head(3)"
      ],
      "execution_count": 3,
      "outputs": [
        {
          "output_type": "stream",
          "text": [
            "CPU times: user 9.16 s, sys: 1.39 s, total: 10.5 s\n",
            "Wall time: 32.7 s\n"
          ],
          "name": "stdout"
        }
      ]
    },
    {
      "cell_type": "markdown",
      "metadata": {
        "id": "nUOX4PgsJ39d"
      },
      "source": [
        "### кодируем игроков и типы турниров"
      ]
    },
    {
      "cell_type": "code",
      "metadata": {
        "colab": {
          "base_uri": "https://localhost:8080/"
        },
        "id": "A30x-zBZ9ONu",
        "outputId": "c5837e3f-62f1-45e4-86ba-bd3ad8530b33"
      },
      "source": [
        "%%time \n",
        "\n",
        "player_ohe = OneHotEncoder()\n",
        "player_ohe.fit(train_questions_records[['player_id']])\n",
        "tour_type_ohe = OneHotEncoder()\n",
        "tour_type_ohe.fit(train_questions_records[['tournament_type']])\n",
        "tour_ohe = OneHotEncoder()\n",
        "tour_ohe.fit(train_questions_records[['tournament_id']])"
      ],
      "execution_count": 4,
      "outputs": [
        {
          "output_type": "stream",
          "text": [
            "CPU times: user 1.51 s, sys: 9.36 ms, total: 1.52 s\n",
            "Wall time: 1.52 s\n"
          ],
          "name": "stdout"
        }
      ]
    },
    {
      "cell_type": "code",
      "metadata": {
        "id": "PTapVBYpGuQ-"
      },
      "source": [
        "def get_features(df, player = True, tournament = True, tournament_type = True, question = True):\n",
        "    features = []\n",
        "    features.append(player_ohe.transform(df[['player_id']]))\n",
        "    if tournament:\n",
        "        features.append(tour_ohe.transform(df[['tournament_id']]))\n",
        "    if tournament_type:\n",
        "        features.append(tour_type_ohe.transform(df[['tournament_type']]))\n",
        "    if question:\n",
        "        features.append(scipy.sparse.csr.csr_matrix(df[['players_question_complexity', 'teams_question_complexity']]))\n",
        "    return scipy.sparse.hstack(features)\n",
        "\n",
        "# get_features_test = partial(get_features, question = False)\n",
        "def get_features_test(df, player = True, tournament = True, tournament_type = True, question = True, pqc = 0.5678659483437233, tqc = 0.5754650824184429):\n",
        "    features = []\n",
        "    features.append(player_ohe.transform(df[['player_id']]))\n",
        "    if tournament:\n",
        "        features.append(scipy.sparse.csr.csr_matrix(np.zeros((len(df), len(tour_ohe.get_feature_names())))))\n",
        "    if tournament_type:\n",
        "        features.append(tour_type_ohe.transform(df[['tournament_type']]))\n",
        "    if question:\n",
        "        features.append(scipy.sparse.csr.csr_matrix(np.vstack([np.ones(len(df)) * pqc, np.ones(len(df)) * tqc]).T))\n",
        "    return scipy.sparse.hstack(features)"
      ],
      "execution_count": 5,
      "outputs": []
    },
    {
      "cell_type": "code",
      "metadata": {
        "id": "kbR9gw9OK6b6"
      },
      "source": [
        "import torch\n",
        "from torch import nn\n",
        "from torch.nn import functional as F\n",
        "from torch.optim.lr_scheduler import StepLR, ReduceLROnPlateau\n",
        "from torch.utils.data import TensorDataset\n",
        "from torch.utils.data import DataLoader\n",
        "\n",
        "from sklearn.metrics import accuracy_score"
      ],
      "execution_count": 6,
      "outputs": []
    },
    {
      "cell_type": "code",
      "metadata": {
        "colab": {
          "base_uri": "https://localhost:8080/"
        },
        "id": "AZvPILsDQ6DD",
        "outputId": "fac21e44-47b6-4f6d-b989-4de7bfb7514f"
      },
      "source": [
        "!nvidia-smi\n",
        "\n",
        "train_on_gpu = torch.cuda.is_available()\n",
        "\n",
        "if not train_on_gpu:\n",
        "    print('CUDA is not available.  Training on CPU ...')\n",
        "    DEVICE = torch.device(\"cpu\")\n",
        "else:\n",
        "    print('CUDA is available!  Training on GPU ...')\n",
        "    DEVICE = torch.device(\"cuda\")"
      ],
      "execution_count": 7,
      "outputs": [
        {
          "output_type": "stream",
          "text": [
            "Sat Apr 10 17:27:48 2021       \n",
            "+-----------------------------------------------------------------------------+\n",
            "| NVIDIA-SMI 460.67       Driver Version: 460.32.03    CUDA Version: 11.2     |\n",
            "|-------------------------------+----------------------+----------------------+\n",
            "| GPU  Name        Persistence-M| Bus-Id        Disp.A | Volatile Uncorr. ECC |\n",
            "| Fan  Temp  Perf  Pwr:Usage/Cap|         Memory-Usage | GPU-Util  Compute M. |\n",
            "|                               |                      |               MIG M. |\n",
            "|===============================+======================+======================|\n",
            "|   0  Tesla T4            Off  | 00000000:00:04.0 Off |                    0 |\n",
            "| N/A   59C    P8    10W /  70W |      0MiB / 15109MiB |      0%      Default |\n",
            "|                               |                      |                  N/A |\n",
            "+-------------------------------+----------------------+----------------------+\n",
            "                                                                               \n",
            "+-----------------------------------------------------------------------------+\n",
            "| Processes:                                                                  |\n",
            "|  GPU   GI   CI        PID   Type   Process name                  GPU Memory |\n",
            "|        ID   ID                                                   Usage      |\n",
            "|=============================================================================|\n",
            "|  No running processes found                                                 |\n",
            "+-----------------------------------------------------------------------------+\n",
            "CUDA is available!  Training on GPU ...\n"
          ],
          "name": "stdout"
        }
      ]
    },
    {
      "cell_type": "markdown",
      "metadata": {
        "id": "fTwvHoqJNLxO"
      },
      "source": [
        "### torch LogisticRegression module"
      ]
    },
    {
      "cell_type": "code",
      "metadata": {
        "id": "6yE6DCClNL21"
      },
      "source": [
        "class LogisticRegression(nn.Module):\n",
        "    def __init__(self, input_dim):\n",
        "        super().__init__()\n",
        "        self.fc = nn.Linear(input_dim, 1)\n",
        "        self.sigmoid = nn.Sigmoid()\n",
        "        \n",
        "    def forward(self, x):\n",
        "        return self.sigmoid(self.fc(x))\n",
        "    \n",
        "\n",
        "def plot_train_process(train_loss, train_accuracy, val_loss = None, val_accuracy = None, title_suffix=''):\n",
        "    fig, axes = plt.subplots(1, 2, figsize=(15, 5))\n",
        "\n",
        "    axes[0].set_title(' '.join(['Loss', title_suffix]))\n",
        "    axes[0].plot(train_loss, label='train')\n",
        "    if val_loss:\n",
        "        axes[0].plot(val_loss, label='validation')\n",
        "    axes[0].legend()\n",
        "\n",
        "    axes[1].set_title(' '.join(['Accuracy', title_suffix]))\n",
        "    axes[1].plot(train_accuracy, label='train')\n",
        "    if val_accuracy:\n",
        "        axes[1].plot(val_accuracy, label='validation')\n",
        "    axes[1].legend()\n",
        "    plt.show()\n",
        "\n",
        "def train_model(model, X, y, optimizer, n_iterations = 10, device = 'cpu', clip = 1, eval_every = 1, batch_size = None, show_plots = True):\n",
        "    \n",
        "    loss_function = nn.BCELoss()\n",
        "    model.to(device)\n",
        "    X, y = X.to(device), y.to(device)\n",
        "    train_loss_history, train_acc_history = [], []\n",
        "\n",
        "    #### попробуем поучить без разбивки по батчам\n",
        "    if not batch_size:\n",
        "        pass\n",
        "        # batch_size = len(y)\n",
        "        # dataloader = ((X, y))\n",
        "    else:\n",
        "        dataset = TensorDataset(X, y)\n",
        "        dataloader = DataLoader(dataset, batch_size = batch_size, shuffle = True)\n",
        "\n",
        "    for i in tqdm(range(n_iterations)):\n",
        "        if not batch_size: \n",
        "            X_batch, y_batch = X, y\n",
        "            optimizer.zero_grad()\n",
        "            sigmoid_logits = model(X_batch)\n",
        "            loss = loss_function(sigmoid_logits, y_batch)\n",
        "            loss.backward()\n",
        "            ### clipping\n",
        "            torch.nn.utils.clip_grad_norm_(model.parameters(), clip)\n",
        "            optimizer.step()            \n",
        "        else:\n",
        "            for X_batch, y_batch in dataloader: \n",
        "                optimizer.zero_grad()\n",
        "                sigmoid_logits = model(X_batch)\n",
        "                loss = loss_function(sigmoid_logits, y_batch)\n",
        "                loss.backward()\n",
        "                ### clipping\n",
        "                torch.nn.utils.clip_grad_norm_(model.parameters(), clip)\n",
        "                optimizer.step()\n",
        "\n",
        "        if i % eval_every == 0:\n",
        "            with torch.no_grad():\n",
        "                if not batch_size:\n",
        "                    sigmoid_logits = model(X)\n",
        "                    loss = loss_function(sigmoid_logits, y)\n",
        "                train_loss_history.append(loss)\n",
        "                acc = accuracy_score(y.cpu().numpy(), (sigmoid_logits.cpu().detach().numpy() > 0.5).astype(int))\n",
        "                train_acc_history.append(acc)\n",
        "                # lr_scheduler.step(train_loss_history[-1])\n",
        "\n",
        "                if show_plots:\n",
        "                    IPython.display.clear_output(wait=True)\n",
        "                    plot_train_process(train_loss_history, train_acc_history)\n",
        "            torch.cuda.empty_cache()"
      ],
      "execution_count": 8,
      "outputs": []
    },
    {
      "cell_type": "markdown",
      "metadata": {
        "id": "woQUn-cnKhp4"
      },
      "source": [
        "### генерируем спарс-матрицу факторов"
      ]
    },
    {
      "cell_type": "code",
      "metadata": {
        "colab": {
          "base_uri": "https://localhost:8080/"
        },
        "id": "RiqDUvm9HIXv",
        "outputId": "76bcdd4c-a7e9-4ae6-fb18-c270f48370fa"
      },
      "source": [
        "%%time \n",
        "\n",
        "X_fit = get_features(train_questions_records, tournament = True, tournament_type = True, question = True)\n",
        "y_fit = train_questions_records['y']\n",
        "\n",
        "X_fit_torch = torch.sparse.FloatTensor(\n",
        "    torch.LongTensor(np.vstack((X_fit.tocoo().row, X_fit.tocoo().col))), #### pairs of indices\n",
        "    torch.FloatTensor(X_fit.tocoo().data), #### values for pairs of indices\n",
        ")\n",
        "\n",
        "y_fit_torch = torch.FloatTensor(y_fit.values).reshape(-1, 1)\n",
        "\n",
        "X_fit_torch.shape, y_fit_torch.shape"
      ],
      "execution_count": 9,
      "outputs": [
        {
          "output_type": "stream",
          "text": [
            "CPU times: user 7.78 s, sys: 574 ms, total: 8.35 s\n",
            "Wall time: 8.46 s\n"
          ],
          "name": "stdout"
        }
      ]
    },
    {
      "cell_type": "code",
      "metadata": {
        "colab": {
          "base_uri": "https://localhost:8080/",
          "height": 664,
          "referenced_widgets": [
            "726d844d2e774031ba73973c08213d47",
            "ead3e5c634bb443a92a1902636bb979f",
            "979399df5efb4f91a3adebd8020da685",
            "11f3f0fbb2f94dc7b128923146ca7b92",
            "68ea4371244d4b7b8b4b34288dbbff72",
            "6548b53e96f94b5488feada0bbfebda9",
            "25b71271e7b747c4a1a6577993e9bb0e",
            "a20379f4fe3f4a059d4cde645123402b"
          ]
        },
        "id": "AhRyx-c5HRpm",
        "outputId": "e3c923c0-04e6-4e5f-9ebd-54621bf6a4f1"
      },
      "source": [
        "input_dim = X_fit_torch.shape[1]\n",
        "model = LogisticRegression(input_dim)\n",
        "optimizer = torch.optim.AdamW(model.parameters(), lr = 1e-2)\n",
        "\n",
        "train_model(model, X_fit_torch, y_fit_torch, optimizer,\n",
        "            device=DEVICE,\n",
        "            clip = 0.5,\n",
        "            batch_size = None,\n",
        "            # batch_size = int(1e6),\n",
        "            n_iterations = 200)"
      ],
      "execution_count": 11,
      "outputs": [
        {
          "output_type": "display_data",
          "data": {
            "image/png": "[encoded data removed]",
            "text/plain": [
              "<Figure size 1080x360 with 2 Axes>"
            ]
          },
          "metadata": {
            "tags": [],
            "needs_background": "light"
          }
        },
        {
          "output_type": "error",
          "ename": "RuntimeError",
          "evalue": "ignored",
          "traceback": [
            "\u001b[0;31m---------------------------------------------------------------------------\u001b[0m",
            "\u001b[0;31mRuntimeError\u001b[0m                              Traceback (most recent call last)",
            "\u001b[0;32m<ipython-input-11-a980e3a8414a>\u001b[0m in \u001b[0;36m<module>\u001b[0;34m()\u001b[0m\n\u001b[1;32m      8\u001b[0m             \u001b[0mbatch_size\u001b[0m \u001b[0;34m=\u001b[0m \u001b[0;32mNone\u001b[0m\u001b[0;34m,\u001b[0m\u001b[0;34m\u001b[0m\u001b[0;34m\u001b[0m\u001b[0m\n\u001b[1;32m      9\u001b[0m             \u001b[0;31m# batch_size = int(1e6),\u001b[0m\u001b[0;34m\u001b[0m\u001b[0;34m\u001b[0m\u001b[0;34m\u001b[0m\u001b[0m\n\u001b[0;32m---> 10\u001b[0;31m             n_iterations = 200)\n\u001b[0m",
            "\u001b[0;32m<ipython-input-8-5fba47d13bd3>\u001b[0m in \u001b[0;36mtrain_model\u001b[0;34m(model, X, y, optimizer, n_iterations, device, clip, eval_every, batch_size, show_plots)\u001b[0m\n\u001b[1;32m     47\u001b[0m             \u001b[0msigmoid_logits\u001b[0m \u001b[0;34m=\u001b[0m \u001b[0mmodel\u001b[0m\u001b[0;34m(\u001b[0m\u001b[0mX_batch\u001b[0m\u001b[0;34m)\u001b[0m\u001b[0;34m\u001b[0m\u001b[0;34m\u001b[0m\u001b[0m\n\u001b[1;32m     48\u001b[0m             \u001b[0mloss\u001b[0m \u001b[0;34m=\u001b[0m \u001b[0mloss_function\u001b[0m\u001b[0;34m(\u001b[0m\u001b[0msigmoid_logits\u001b[0m\u001b[0;34m,\u001b[0m \u001b[0my_batch\u001b[0m\u001b[0;34m)\u001b[0m\u001b[0;34m\u001b[0m\u001b[0;34m\u001b[0m\u001b[0m\n\u001b[0;32m---> 49\u001b[0;31m             \u001b[0mloss\u001b[0m\u001b[0;34m.\u001b[0m\u001b[0mbackward\u001b[0m\u001b[0;34m(\u001b[0m\u001b[0;34m)\u001b[0m\u001b[0;34m\u001b[0m\u001b[0;34m\u001b[0m\u001b[0m\n\u001b[0m\u001b[1;32m     50\u001b[0m             \u001b[0;31m### clipping\u001b[0m\u001b[0;34m\u001b[0m\u001b[0;34m\u001b[0m\u001b[0;34m\u001b[0m\u001b[0m\n\u001b[1;32m     51\u001b[0m             \u001b[0mtorch\u001b[0m\u001b[0;34m.\u001b[0m\u001b[0mnn\u001b[0m\u001b[0;34m.\u001b[0m\u001b[0mutils\u001b[0m\u001b[0;34m.\u001b[0m\u001b[0mclip_grad_norm_\u001b[0m\u001b[0;34m(\u001b[0m\u001b[0mmodel\u001b[0m\u001b[0;34m.\u001b[0m\u001b[0mparameters\u001b[0m\u001b[0;34m(\u001b[0m\u001b[0;34m)\u001b[0m\u001b[0;34m,\u001b[0m \u001b[0mclip\u001b[0m\u001b[0;34m)\u001b[0m\u001b[0;34m\u001b[0m\u001b[0;34m\u001b[0m\u001b[0m\n",
            "\u001b[0;32m/usr/local/lib/python3.7/dist-packages/torch/tensor.py\u001b[0m in \u001b[0;36mbackward\u001b[0;34m(self, gradient, retain_graph, create_graph, inputs)\u001b[0m\n\u001b[1;32m    243\u001b[0m                 \u001b[0mcreate_graph\u001b[0m\u001b[0;34m=\u001b[0m\u001b[0mcreate_graph\u001b[0m\u001b[0;34m,\u001b[0m\u001b[0;34m\u001b[0m\u001b[0;34m\u001b[0m\u001b[0m\n\u001b[1;32m    244\u001b[0m                 inputs=inputs)\n\u001b[0;32m--> 245\u001b[0;31m         \u001b[0mtorch\u001b[0m\u001b[0;34m.\u001b[0m\u001b[0mautograd\u001b[0m\u001b[0;34m.\u001b[0m\u001b[0mbackward\u001b[0m\u001b[0;34m(\u001b[0m\u001b[0mself\u001b[0m\u001b[0;34m,\u001b[0m \u001b[0mgradient\u001b[0m\u001b[0;34m,\u001b[0m \u001b[0mretain_graph\u001b[0m\u001b[0;34m,\u001b[0m \u001b[0mcreate_graph\u001b[0m\u001b[0;34m,\u001b[0m \u001b[0minputs\u001b[0m\u001b[0;34m=\u001b[0m\u001b[0minputs\u001b[0m\u001b[0;34m)\u001b[0m\u001b[0;34m\u001b[0m\u001b[0;34m\u001b[0m\u001b[0m\n\u001b[0m\u001b[1;32m    246\u001b[0m \u001b[0;34m\u001b[0m\u001b[0m\n\u001b[1;32m    247\u001b[0m     \u001b[0;32mdef\u001b[0m \u001b[0mregister_hook\u001b[0m\u001b[0;34m(\u001b[0m\u001b[0mself\u001b[0m\u001b[0;34m,\u001b[0m \u001b[0mhook\u001b[0m\u001b[0;34m)\u001b[0m\u001b[0;34m:\u001b[0m\u001b[0;34m\u001b[0m\u001b[0;34m\u001b[0m\u001b[0m\n",
            "\u001b[0;32m/usr/local/lib/python3.7/dist-packages/torch/autograd/__init__.py\u001b[0m in \u001b[0;36mbackward\u001b[0;34m(tensors, grad_tensors, retain_graph, create_graph, grad_variables, inputs)\u001b[0m\n\u001b[1;32m    145\u001b[0m     Variable._execution_engine.run_backward(\n\u001b[1;32m    146\u001b[0m         \u001b[0mtensors\u001b[0m\u001b[0;34m,\u001b[0m \u001b[0mgrad_tensors_\u001b[0m\u001b[0;34m,\u001b[0m \u001b[0mretain_graph\u001b[0m\u001b[0;34m,\u001b[0m \u001b[0mcreate_graph\u001b[0m\u001b[0;34m,\u001b[0m \u001b[0minputs\u001b[0m\u001b[0;34m,\u001b[0m\u001b[0;34m\u001b[0m\u001b[0;34m\u001b[0m\u001b[0m\n\u001b[0;32m--> 147\u001b[0;31m         allow_unreachable=True, accumulate_grad=True)  # allow_unreachable flag\n\u001b[0m\u001b[1;32m    148\u001b[0m \u001b[0;34m\u001b[0m\u001b[0m\n\u001b[1;32m    149\u001b[0m \u001b[0;34m\u001b[0m\u001b[0m\n",
            "\u001b[0;31mRuntimeError\u001b[0m: CUDA out of memory. Tried to allocate 1.09 GiB (GPU 0; 14.76 GiB total capacity; 11.86 GiB already allocated; 839.75 MiB free; 12.91 GiB reserved in total by PyTorch)"
          ]
        }
      ]
    },
    {
      "cell_type": "code",
      "metadata": {
        "id": "kIOHkNiaa93y"
      },
      "source": [
        "all_f_model = model.cpu()"
      ],
      "execution_count": 12,
      "outputs": []
    },
    {
      "cell_type": "markdown",
      "metadata": {
        "id": "gzCc3homCRUW"
      },
      "source": [
        "3. Качество рейтинг-системы оценивается качеством предсказаний результатов турниров.\n",
        "\n",
        "Но сами повопросные результаты наши модели предсказывать вряд ли смогут, ведь\n",
        "неизвестно, насколько сложными окажутся вопросы в будущих турнирах; да и не нужны эти предсказания сами по себе. Поэтому:\n",
        "- предложите способ предсказать результаты нового турнира с известными составами, но неизвестными вопросами, в виде ранжирования команд\n",
        "- в качестве метрики качества на тестовом наборе давайте считать ранговые\n",
        "корреляции Спирмена и Кендалла (их можно взять в пакете scipy) между\n",
        "реальным ранжированием в результатах турнира и предсказанным моделью,\n",
        "усреднённые по тестовому множеству турниров\n"
      ]
    },
    {
      "cell_type": "markdown",
      "metadata": {
        "id": "AsL9b8MhCRYM"
      },
      "source": [
        "Силу команды $i$ на вопросе $j$ можно определять множеством способов, например:\n",
        "- максимальная вероятность ответа на вопрос\n",
        "- средняя вероятность ответа на вопрос\n",
        "- вероятность того, что хотя бы один из игроков отвечает верно,\n",
        "т.е. $1 - \\prod_{k = 1}^{N}(1 - p_{kj})$\n",
        "\n",
        "Выше $p_{kj} = \\sigma(s_k + qc_j + \\overline{shift})$,  где $s_k$ - сила игрока по обученной модели, $qc_j$ - сложность вопроса, $\\overline{shift}$ - константа регрессии\n",
        "\n",
        "Соответственно, на турнир расчёт можно перенести, подставляя среднюю сложность вопроса для всех игроков\n",
        "\n",
        "Общий рейтинг на тестовых данных можно получить собрав всех игроков со всех турниров в один пул и подставив всем общую сложность для одного вопроса\n",
        "\n",
        "Поскольку модель линейная, то не имеет значения, какую сложность вопроса подставлять - изменится только абсолютное значение вероятности, но не ранжировка"
      ]
    },
    {
      "cell_type": "code",
      "metadata": {
        "id": "uQy1nKcaCRb5"
      },
      "source": [
        "def calc_test_correlations(test_records, model):\n",
        "    known_players = test_records.query('new_player == 0').copy()\n",
        "    unknown_players = test_records.query('new_player == 1').copy()\n",
        "    X_known = get_features_test(known_players)\n",
        "    X_known_torch = torch.sparse.FloatTensor(\n",
        "        torch.LongTensor(np.vstack((X_known.tocoo().row, X_known.tocoo().col))), #### pairs of indices\n",
        "        torch.FloatTensor(X_known.tocoo().data), #### values for pairs of indices\n",
        "    )\n",
        "\n",
        "    with torch.no_grad():\n",
        "        known_proba = all_f_model(X_known_torch).cpu().numpy().flatten()\n",
        "    known_players['proba'] = known_proba\n",
        "    avg_proba = known_proba.mean()\n",
        "    avg_proba_by_tour_type = known_players.groupby('tournament_type').agg({'proba':'mean'}).to_dict()['proba']\n",
        "    unknown_players['proba'] = unknown_players['tournament_type'].replace(avg_proba_by_tour_type)\n",
        "    # unknown_players['proba'] = avg_proba\n",
        "    unknown_players['proba'] = unknown_players['proba'].astype(float)\n",
        "    all_players = pd.concat([unknown_players, known_players], axis = 0, ignore_index = True)\n",
        "    all_players['proba'] = all_players['proba'].astype(float)\n",
        "    \n",
        "    agg_prod = lambda x: 1 - np.prod(1 - x)\n",
        "    agg_max = lambda x: max(x)\n",
        "    agg_mean = lambda x: np.mean(x)\n",
        "\n",
        "    for agg_func in (agg_prod, agg_max, agg_mean):\n",
        "\n",
        "        all_tours_teams = all_players.groupby([\"tournament_id\", \"team_id\"]).agg({\"proba\" : agg_func, \"team_position\" : 'max'}).reset_index()\n",
        "\n",
        "        spearman_corr = all_tours_teams.groupby(\"tournament_id\").apply(lambda x: spearmanr(-x['proba'], x['team_position'])[0]).mean()\n",
        "        kendall_corr = all_tours_teams.groupby(\"tournament_id\").apply(lambda x: kendalltau(-x['proba'], x['team_position'])[0]).mean()\n",
        "        print(spearman_corr, kendall_corr)"
      ],
      "execution_count": 27,
      "outputs": []
    },
    {
      "cell_type": "code",
      "metadata": {
        "colab": {
          "base_uri": "https://localhost:8080/"
        },
        "id": "uTI64q1Kn_tN",
        "outputId": "253e2585-3357-48c6-c2bd-25309c8cffbc"
      },
      "source": [
        "calc_test_correlations(test_records, all_f_model)"
      ],
      "execution_count": 28,
      "outputs": [
        {
          "output_type": "stream",
          "text": [
            "0.6124287616297366 0.46968652214798373\n",
            "0.6435749387871416 0.4968055619489724\n",
            "0.6607708203130335 0.513455103705231\n"
          ],
          "name": "stdout"
        }
      ]
    },
    {
      "cell_type": "code",
      "metadata": {
        "id": "KFloyBOx3l-V"
      },
      "source": [
        "def top_players(test_records, model, top = 20):\n",
        "    known_players = test_records.query('new_player == 0').copy()\n",
        "    known_players['tournament_type'] = 'Синхрон'\n",
        "    unknown_players = test_records.query('new_player == 1').copy()\n",
        "    X_known = get_features_test(known_players)\n",
        "    X_known_torch = torch.sparse.FloatTensor(\n",
        "        torch.LongTensor(np.vstack((X_known.tocoo().row, X_known.tocoo().col))), #### pairs of indices\n",
        "        torch.FloatTensor(X_known.tocoo().data), #### values for pairs of indices\n",
        "    )\n",
        "\n",
        "    with torch.no_grad():\n",
        "        known_proba = all_f_model(X_known_torch).cpu().numpy().flatten()\n",
        "    known_players['proba'] = known_proba\n",
        "    avg_proba = known_proba.mean()\n",
        "    avg_proba_by_tour_type = known_players.groupby('tournament_type').agg({'proba':'mean'}).to_dict()['proba']\n",
        "    # unknown_players['proba'] = unknown_players['tournament_type'].replace(avg_proba_by_tour_type)\n",
        "    # unknown_players['proba'] = unknown_players['proba'].astype(float)\n",
        "    unknown_players['proba'] = avg_proba\n",
        "\n",
        "    all_players = pd.concat([unknown_players, known_players], axis = 0, ignore_index = True)\n",
        "    all_players['proba'] = all_players['proba'].astype(float)\n",
        "    # display(all_players)\n",
        "    return all_players.groupby('player_id').agg({'proba':'mean', 'player_name':'min'}).sort_values(by = 'proba', ascending = False).iloc[:top,:]"
      ],
      "execution_count": 35,
      "outputs": []
    },
    {
      "cell_type": "code",
      "metadata": {
        "colab": {
          "base_uri": "https://localhost:8080/",
          "height": 693
        },
        "id": "ywHOPtvH3mG2",
        "outputId": "60651775-2890-4c24-a7ea-42dcb101846c"
      },
      "source": [
        "xxx = top_players(test_records, all_f_model, top = 20)\n",
        "xxx"
      ],
      "execution_count": 36,
      "outputs": [
        {
          "output_type": "execute_result",
          "data": {
            "text/html": [
              "<div>\n",
              "<style scoped>\n",
              "    .dataframe tbody tr th:only-of-type {\n",
              "        vertical-align: middle;\n",
              "    }\n",
              "\n",
              "    .dataframe tbody tr th {\n",
              "        vertical-align: top;\n",
              "    }\n",
              "\n",
              "    .dataframe thead th {\n",
              "        text-align: right;\n",
              "    }\n",
              "</style>\n",
              "<table border=\"1\" class=\"dataframe\">\n",
              "  <thead>\n",
              "    <tr style=\"text-align: right;\">\n",
              "      <th></th>\n",
              "      <th>proba</th>\n",
              "      <th>player_name</th>\n",
              "    </tr>\n",
              "    <tr>\n",
              "      <th>player_id</th>\n",
              "      <th></th>\n",
              "      <th></th>\n",
              "    </tr>\n",
              "  </thead>\n",
              "  <tbody>\n",
              "    <tr>\n",
              "      <th>22474</th>\n",
              "      <td>0.610380</td>\n",
              "      <td>Немец Илья Сергеевич</td>\n",
              "    </tr>\n",
              "    <tr>\n",
              "      <th>707</th>\n",
              "      <td>0.610139</td>\n",
              "      <td>Александрова Елена Андреевна</td>\n",
              "    </tr>\n",
              "    <tr>\n",
              "      <th>176888</th>\n",
              "      <td>0.609484</td>\n",
              "      <td>Штокман Михаил Олегович</td>\n",
              "    </tr>\n",
              "    <tr>\n",
              "      <th>27622</th>\n",
              "      <td>0.606247</td>\n",
              "      <td>Рябых Николай Георгиевич</td>\n",
              "    </tr>\n",
              "    <tr>\n",
              "      <th>38196</th>\n",
              "      <td>0.605775</td>\n",
              "      <td>Митрофанов Артём Александрович</td>\n",
              "    </tr>\n",
              "    <tr>\n",
              "      <th>74001</th>\n",
              "      <td>0.604017</td>\n",
              "      <td>Мокин Игорь Викторович</td>\n",
              "    </tr>\n",
              "    <tr>\n",
              "      <th>222188</th>\n",
              "      <td>0.603929</td>\n",
              "      <td>Гринко Арина</td>\n",
              "    </tr>\n",
              "    <tr>\n",
              "      <th>13689</th>\n",
              "      <td>0.602910</td>\n",
              "      <td>Карякин Дмитрий Александрович</td>\n",
              "    </tr>\n",
              "    <tr>\n",
              "      <th>22530</th>\n",
              "      <td>0.602718</td>\n",
              "      <td>Федякова Екатерина Сергеевна</td>\n",
              "    </tr>\n",
              "    <tr>\n",
              "      <th>90664</th>\n",
              "      <td>0.602491</td>\n",
              "      <td>Ермолаев Иван Викторович</td>\n",
              "    </tr>\n",
              "    <tr>\n",
              "      <th>18194</th>\n",
              "      <td>0.602334</td>\n",
              "      <td>Кленницкая Мария Владимировна</td>\n",
              "    </tr>\n",
              "    <tr>\n",
              "      <th>95356</th>\n",
              "      <td>0.601634</td>\n",
              "      <td>Шкут Сергей Николаевич</td>\n",
              "    </tr>\n",
              "    <tr>\n",
              "      <th>27403</th>\n",
              "      <td>0.601624</td>\n",
              "      <td>Руссо Максим Михайлович</td>\n",
              "    </tr>\n",
              "    <tr>\n",
              "      <th>33119</th>\n",
              "      <td>0.600607</td>\n",
              "      <td>Федяков Павел Геннадьевич</td>\n",
              "    </tr>\n",
              "    <tr>\n",
              "      <th>34328</th>\n",
              "      <td>0.600232</td>\n",
              "      <td>Царёв Михаил Сергеевич</td>\n",
              "    </tr>\n",
              "    <tr>\n",
              "      <th>24543</th>\n",
              "      <td>0.600214</td>\n",
              "      <td>Перпер Евгений Михайлович</td>\n",
              "    </tr>\n",
              "    <tr>\n",
              "      <th>87637</th>\n",
              "      <td>0.600017</td>\n",
              "      <td>Саксонов Антон Владимирович</td>\n",
              "    </tr>\n",
              "    <tr>\n",
              "      <th>30152</th>\n",
              "      <td>0.599249</td>\n",
              "      <td>Сорожкин Артём Сергеевич</td>\n",
              "    </tr>\n",
              "    <tr>\n",
              "      <th>28751</th>\n",
              "      <td>0.599206</td>\n",
              "      <td>Семушин Иван Николаевич</td>\n",
              "    </tr>\n",
              "    <tr>\n",
              "      <th>30270</th>\n",
              "      <td>0.599156</td>\n",
              "      <td>Спешков Сергей Леонидович</td>\n",
              "    </tr>\n",
              "  </tbody>\n",
              "</table>\n",
              "</div>"
            ],
            "text/plain": [
              "              proba                     player_name\n",
              "player_id                                          \n",
              "22474      0.610380            Немец Илья Сергеевич\n",
              "707        0.610139    Александрова Елена Андреевна\n",
              "176888     0.609484         Штокман Михаил Олегович\n",
              "27622      0.606247        Рябых Николай Георгиевич\n",
              "38196      0.605775  Митрофанов Артём Александрович\n",
              "74001      0.604017          Мокин Игорь Викторович\n",
              "222188     0.603929                   Гринко Арина \n",
              "13689      0.602910   Карякин Дмитрий Александрович\n",
              "22530      0.602718    Федякова Екатерина Сергеевна\n",
              "90664      0.602491        Ермолаев Иван Викторович\n",
              "18194      0.602334   Кленницкая Мария Владимировна\n",
              "95356      0.601634          Шкут Сергей Николаевич\n",
              "27403      0.601624         Руссо Максим Михайлович\n",
              "33119      0.600607       Федяков Павел Геннадьевич\n",
              "34328      0.600232          Царёв Михаил Сергеевич\n",
              "24543      0.600214       Перпер Евгений Михайлович\n",
              "87637      0.600017     Саксонов Антон Владимирович\n",
              "30152      0.599249        Сорожкин Артём Сергеевич\n",
              "28751      0.599206         Семушин Иван Николаевич\n",
              "30270      0.599156       Спешков Сергей Леонидович"
            ]
          },
          "metadata": {
            "tags": []
          },
          "execution_count": 36
        }
      ]
    },
    {
      "cell_type": "markdown",
      "metadata": {
        "id": "jFJVLbNWrvP4"
      },
      "source": [
        "4. Теперь главное: ЧГК — это всё-таки командная игра. Поэтому:\n",
        "- предложите способ учитывать то, что на вопрос отвечают сразу несколько\n",
        "игроков; скорее всего, понадобятся скрытые переменные; не стесняйтесь делать\n",
        "упрощающие предположения, но теперь переменные “игрок X ответил на вопрос\n",
        "Y” при условии данных должны стать зависимыми для игроков одной и той же\n",
        "команды;\n",
        "- разработайте EM-схему для обучения этой модели, реализуйте её в коде;\n",
        "- обучите несколько итераций, убедитесь, что целевые метрики со временем\n",
        "растут (скорее всего, ненамного, но расти должны), выберите лучшую модель,\n",
        "используя целевые метрики.\n"
      ]
    },
    {
      "cell_type": "markdown",
      "metadata": {
        "id": "m9b-_vs9rvLu"
      },
      "source": [
        "В данных мы видим только ответы команды, но не факт, что каждый игрок ответил бы правильно, если команда ответила правильно\n",
        "\n",
        "В обратную сторону для простоты считаем, что выполняется условие - если ни один игрок не знает ответа, то у команды на вопрос ответ также 0\n",
        "\n",
        "Тогда эта задача по сути presense-only data, только absense-only :)\n",
        "\n",
        "Пусть ответ команды $i$ на вопрос $j$ есть $t_{ij}$\n",
        "\n",
        "Вводя скрытые переменные $z_{kj}$ для каждой пары игрок-вопрос будем иметь, что\n",
        "\n",
        "${p(t_{ij} = 1|max(z_{kj}) = 1) = 1}$\n",
        "\n",
        "EM-алгоритм будет выглядеть так, что на E-шаге мы будем находить МО для скрытых переменных\n",
        "${p(z_{kj} = 1|t_{ij} = y)}$ по всем соответствующим $i,j,k$\n",
        "\n",
        "\n",
        "Но из условия в обратную сторону будем считать, что\n",
        "${p(z_{kj} = 1|t_{ij} = 0) = 0}$\n",
        "\n",
        "Тогда для неверных ответов лейблы изменяться не будут, а для остальных будем корректировать лейблы при помощи корректировки вероятностью ответа всей командой, полученных с прогноза M-шага\n",
        "\n",
        "${p(z_{kj} = 1|t_{ij} = 1) = \\frac{p(t_{ij} = 1|z_{kj} = 1)p(z_{kj} = 1)}{p(t_{ij} = 1)}} = \\frac{1 * p(z_{kj} = 1)}{p(t_{ij} = 1)} = \\frac{1 * p_{kj}}{1 - \\prod_{k}(1 - p_{kj})}$\n",
        "\n",
        "На M-шаге обучаем веса регрессии на скорректированных лейблах"
      ]
    },
    {
      "cell_type": "code",
      "metadata": {
        "id": "pneFbMFRzVV5"
      },
      "source": [
        "def E_step(model, train_data, X, y):\n",
        "    with torch.no_grad():\n",
        "        predictions = model(X).cpu().numpy().flatten()\n",
        "    train_data.loc[train_data['y'] == 0, 'ind_y'] = 0"
      ],
      "execution_count": null,
      "outputs": []
    },
    {
      "cell_type": "code",
      "metadata": {
        "id": "Vz3fBUmfzVgm"
      },
      "source": [
        ""
      ],
      "execution_count": null,
      "outputs": []
    },
    {
      "cell_type": "code",
      "metadata": {
        "id": "CWsYMlPZzVkt"
      },
      "source": [
        ""
      ],
      "execution_count": null,
      "outputs": []
    },
    {
      "cell_type": "code",
      "metadata": {
        "id": "voEU_fbRzVso"
      },
      "source": [
        ""
      ],
      "execution_count": null,
      "outputs": []
    }
  ]
}